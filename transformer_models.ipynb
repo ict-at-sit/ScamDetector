{
 "cells": [
  {
   "cell_type": "markdown",
   "metadata": {},
   "source": [
    "# Imports"
   ]
  },
  {
   "cell_type": "code",
   "execution_count": 1,
   "metadata": {},
   "outputs": [
    {
     "name": "stderr",
     "output_type": "stream",
     "text": [
      "c:\\Users\\Potbottom\\AppData\\Local\\Programs\\Python\\Python312\\Lib\\site-packages\\tqdm\\auto.py:21: TqdmWarning: IProgress not found. Please update jupyter and ipywidgets. See https://ipywidgets.readthedocs.io/en/stable/user_install.html\n",
      "  from .autonotebook import tqdm as notebook_tqdm\n"
     ]
    }
   ],
   "source": [
    "import pandas as pd\n",
    "import numpy as np\n",
    "import torch\n",
    "import torch.nn.functional as F\n",
    "from transformers import TrainingArguments, Trainer, DataCollatorWithPadding, BitsAndBytesConfig\n",
    "from transformers import BertTokenizer, RobertaTokenizer, DistilBertTokenizer\n",
    "from transformers import BertForSequenceClassification, RobertaForSequenceClassification, DistilBertForSequenceClassification\n",
    "\n",
    "from sklearn.metrics import f1_score, confusion_matrix, classification_report, balanced_accuracy_score, accuracy_score, precision_score, recall_score, ConfusionMatrixDisplay\n",
    "\n",
    "from datasets import Dataset, DatasetDict\n",
    "from peft import LoraConfig, prepare_model_for_kbit_training, get_peft_model\n",
    "\n",
    "import matplotlib.pyplot as plt\n"
   ]
  },
  {
   "cell_type": "markdown",
   "metadata": {},
   "source": [
    "# Read dataset and remove duplicate"
   ]
  },
  {
   "cell_type": "code",
   "execution_count": 2,
   "metadata": {},
   "outputs": [
    {
     "data": {
      "text/plain": [
       "((20670, 2), (15241, 2))"
      ]
     },
     "execution_count": 2,
     "metadata": {},
     "output_type": "execute_result"
    }
   ],
   "source": [
    "data = pd.read_csv('ScamDataset.csv', delimiter=',', names=['message', 'label'])\n",
    "\n",
    "original_shape = data.shape\n",
    "\n",
    "# Removing duplicate rows\n",
    "data = data.drop_duplicates()\n",
    "\n",
    "# Shape after removing duplicates\n",
    "new_shape = data.shape\n",
    "\n",
    "original_shape, new_shape"
   ]
  },
  {
   "cell_type": "code",
   "execution_count": 3,
   "metadata": {},
   "outputs": [],
   "source": [
    "# Shuffle data to avoid any bias\n",
    "data = data.sample(frac=1).reset_index(drop=True)"
   ]
  },
  {
   "cell_type": "code",
   "execution_count": 4,
   "metadata": {},
   "outputs": [
    {
     "data": {
      "text/html": [
       "<div>\n",
       "<style scoped>\n",
       "    .dataframe tbody tr th:only-of-type {\n",
       "        vertical-align: middle;\n",
       "    }\n",
       "\n",
       "    .dataframe tbody tr th {\n",
       "        vertical-align: top;\n",
       "    }\n",
       "\n",
       "    .dataframe thead th {\n",
       "        text-align: right;\n",
       "    }\n",
       "</style>\n",
       "<table border=\"1\" class=\"dataframe\">\n",
       "  <thead>\n",
       "    <tr style=\"text-align: right;\">\n",
       "      <th></th>\n",
       "      <th>message</th>\n",
       "      <th>label</th>\n",
       "      <th>target</th>\n",
       "    </tr>\n",
       "  </thead>\n",
       "  <tbody>\n",
       "    <tr>\n",
       "      <th>0</th>\n",
       "      <td>UR GOING 2 BAHAMAS! CallFREEFONE 08081560665 a...</td>\n",
       "      <td>fraud</td>\n",
       "      <td>0</td>\n",
       "    </tr>\n",
       "    <tr>\n",
       "      <th>1</th>\n",
       "      <td>Ok give me 5 minutes I think I see her. BTW yo...</td>\n",
       "      <td>normal</td>\n",
       "      <td>1</td>\n",
       "    </tr>\n",
       "    <tr>\n",
       "      <th>2</th>\n",
       "      <td>You're right I have now that I think about it</td>\n",
       "      <td>normal</td>\n",
       "      <td>1</td>\n",
       "    </tr>\n",
       "    <tr>\n",
       "      <th>3</th>\n",
       "      <td>Important notice: Your prize claim requires ur...</td>\n",
       "      <td>fraud</td>\n",
       "      <td>0</td>\n",
       "    </tr>\n",
       "    <tr>\n",
       "      <th>4</th>\n",
       "      <td>Dnt worry...use ice pieces in a cloth pack.als...</td>\n",
       "      <td>normal</td>\n",
       "      <td>1</td>\n",
       "    </tr>\n",
       "    <tr>\n",
       "      <th>...</th>\n",
       "      <td>...</td>\n",
       "      <td>...</td>\n",
       "      <td>...</td>\n",
       "    </tr>\n",
       "    <tr>\n",
       "      <th>15236</th>\n",
       "      <td>Would you like to see my XXX pics they are so ...</td>\n",
       "      <td>fraud</td>\n",
       "      <td>0</td>\n",
       "    </tr>\n",
       "    <tr>\n",
       "      <th>15237</th>\n",
       "      <td>Yo sorry was in the shower sup</td>\n",
       "      <td>normal</td>\n",
       "      <td>1</td>\n",
       "    </tr>\n",
       "    <tr>\n",
       "      <th>15238</th>\n",
       "      <td>From here after The performance award is calcu...</td>\n",
       "      <td>normal</td>\n",
       "      <td>1</td>\n",
       "    </tr>\n",
       "    <tr>\n",
       "      <th>15239</th>\n",
       "      <td>To speak the truth,  continuous efforts of our...</td>\n",
       "      <td>normal</td>\n",
       "      <td>1</td>\n",
       "    </tr>\n",
       "    <tr>\n",
       "      <th>15240</th>\n",
       "      <td>Some are lasting as much as 2 hours. You might...</td>\n",
       "      <td>normal</td>\n",
       "      <td>1</td>\n",
       "    </tr>\n",
       "  </tbody>\n",
       "</table>\n",
       "<p>15241 rows × 3 columns</p>\n",
       "</div>"
      ],
      "text/plain": [
       "                                                 message   label  target\n",
       "0      UR GOING 2 BAHAMAS! CallFREEFONE 08081560665 a...   fraud       0\n",
       "1      Ok give me 5 minutes I think I see her. BTW yo...  normal       1\n",
       "2          You're right I have now that I think about it  normal       1\n",
       "3      Important notice: Your prize claim requires ur...   fraud       0\n",
       "4      Dnt worry...use ice pieces in a cloth pack.als...  normal       1\n",
       "...                                                  ...     ...     ...\n",
       "15236  Would you like to see my XXX pics they are so ...   fraud       0\n",
       "15237                     Yo sorry was in the shower sup  normal       1\n",
       "15238  From here after The performance award is calcu...  normal       1\n",
       "15239  To speak the truth,  continuous efforts of our...  normal       1\n",
       "15240  Some are lasting as much as 2 hours. You might...  normal       1\n",
       "\n",
       "[15241 rows x 3 columns]"
      ]
     },
     "execution_count": 4,
     "metadata": {},
     "output_type": "execute_result"
    }
   ],
   "source": [
    "data['label'] = data['label'].astype('category')\n",
    "data['target'] = data['label'].cat.codes\n",
    "data\n"
   ]
  },
  {
   "cell_type": "code",
   "execution_count": 5,
   "metadata": {},
   "outputs": [
    {
     "data": {
      "text/plain": [
       "{0: 'fraud', 1: 'normal'}"
      ]
     },
     "execution_count": 5,
     "metadata": {},
     "output_type": "execute_result"
    }
   ],
   "source": [
    "# Decode\n",
    "data['label'].cat.categories\n",
    "category_map = {code: category for code, category in enumerate(data['label'].cat.categories)}\n",
    "category_map"
   ]
  },
  {
   "cell_type": "code",
   "execution_count": 6,
   "metadata": {},
   "outputs": [
    {
     "name": "stdout",
     "output_type": "stream",
     "text": [
      "(9144, 3) (3049, 3) (3048, 3)\n"
     ]
    }
   ],
   "source": [
    "train_end_point = int(data.shape[0]*0.6)\n",
    "val_end_point = int(data.shape[0]*0.8)\n",
    "df_train = data.iloc[:train_end_point,:]\n",
    "df_val = data.iloc[train_end_point:val_end_point,:]\n",
    "df_test = data.iloc[val_end_point:,:]\n",
    "print(df_train.shape, df_test.shape, df_val.shape)"
   ]
  },
  {
   "cell_type": "code",
   "execution_count": 7,
   "metadata": {},
   "outputs": [],
   "source": [
    "# Converting pandas DataFrames into Hugging Face Dataset objects:\n",
    "dataset_train = Dataset.from_pandas(df_train.drop('label',axis=1))\n",
    "dataset_val = Dataset.from_pandas(df_val.drop('label',axis=1))\n",
    "dataset_test = Dataset.from_pandas(df_test.drop('label',axis=1))"
   ]
  },
  {
   "cell_type": "code",
   "execution_count": 8,
   "metadata": {},
   "outputs": [],
   "source": [
    "# Shuffle the training dataset\n",
    "dataset_train_shuffled = dataset_train.shuffle(seed=42)  # Using a seed for reproducibility"
   ]
  },
  {
   "cell_type": "code",
   "execution_count": 9,
   "metadata": {},
   "outputs": [
    {
     "data": {
      "text/plain": [
       "DatasetDict({\n",
       "    train: Dataset({\n",
       "        features: ['message', 'target'],\n",
       "        num_rows: 9144\n",
       "    })\n",
       "    val: Dataset({\n",
       "        features: ['message', 'target'],\n",
       "        num_rows: 3048\n",
       "    })\n",
       "    test: Dataset({\n",
       "        features: ['message', 'target'],\n",
       "        num_rows: 3049\n",
       "    })\n",
       "})"
      ]
     },
     "execution_count": 9,
     "metadata": {},
     "output_type": "execute_result"
    }
   ],
   "source": [
    "# Combine them into a single DatasetDict\n",
    "dataset = DatasetDict({\n",
    "    'train': dataset_train_shuffled,\n",
    "    'val': dataset_val,\n",
    "    'test': dataset_test\n",
    "})\n",
    "dataset"
   ]
  },
  {
   "cell_type": "code",
   "execution_count": 10,
   "metadata": {},
   "outputs": [
    {
     "data": {
      "text/plain": [
       "Dataset({\n",
       "    features: ['message', 'target'],\n",
       "    num_rows: 9144\n",
       "})"
      ]
     },
     "execution_count": 10,
     "metadata": {},
     "output_type": "execute_result"
    }
   ],
   "source": [
    "dataset['train']"
   ]
  },
  {
   "cell_type": "code",
   "execution_count": 11,
   "metadata": {},
   "outputs": [
    {
     "data": {
      "text/plain": [
       "target\n",
       "0    0.546041\n",
       "1    0.453959\n",
       "Name: proportion, dtype: float64"
      ]
     },
     "execution_count": 11,
     "metadata": {},
     "output_type": "execute_result"
    }
   ],
   "source": [
    "df_train.target.value_counts(normalize=True)"
   ]
  },
  {
   "cell_type": "code",
   "execution_count": 12,
   "metadata": {},
   "outputs": [
    {
     "data": {
      "text/plain": [
       "tensor([0.4540, 0.5460])"
      ]
     },
     "execution_count": 12,
     "metadata": {},
     "output_type": "execute_result"
    }
   ],
   "source": [
    "class_weights=(1/df_train.target.value_counts(normalize=True).sort_index()).tolist()\n",
    "class_weights=torch.tensor(class_weights)\n",
    "class_weights=class_weights/class_weights.sum()\n",
    "class_weights\n"
   ]
  },
  {
   "cell_type": "code",
   "execution_count": 13,
   "metadata": {},
   "outputs": [],
   "source": [
    "quantization_config = BitsAndBytesConfig(\n",
    "    load_in_4bit = True, # enable 4-bit quantization\n",
    "    bnb_4bit_quant_type = 'nf4', # information theoretically optimal dtype for normally distributed weights\n",
    "    bnb_4bit_use_double_quant = True, # quantize quantized weights //insert xzibit meme\n",
    "    bnb_4bit_compute_dtype = torch.bfloat16 # optimized fp format for ML\n",
    ")"
   ]
  },
  {
   "cell_type": "code",
   "execution_count": 14,
   "metadata": {},
   "outputs": [],
   "source": [
    "lora_config = LoraConfig(\n",
    "    r = 16, # the dimension of the low-rank matrices\n",
    "    lora_alpha = 8, # scaling factor for LoRA activations vs pre-trained weight activations\n",
    "    target_modules = ['q_proj', 'k_proj', 'v_proj', 'o_proj'],\n",
    "    lora_dropout = 0.05, # dropout probability of the LoRA layers\n",
    "    bias = 'none', # wether to train bias weights, set to 'none' for attention layers\n",
    "    task_type = 'SEQ_CLS'\n",
    ")"
   ]
  },
  {
   "cell_type": "code",
   "execution_count": 15,
   "metadata": {},
   "outputs": [],
   "source": [
    "# Define function for training and evaluation\n",
    "def tokenizer_model(model_name):\n",
    "    print(f\"Training and evaluating {model_name}...\")\n",
    "    if model_name == 'bert':\n",
    "        tokenizer = BertTokenizer.from_pretrained('bert-base-uncased', add_prefix_space=True)\n",
    "        model = BertForSequenceClassification.from_pretrained('bert-base-uncased', num_labels=2)\n",
    "    elif model_name == 'roberta':\n",
    "        tokenizer = RobertaTokenizer.from_pretrained('roberta-base', add_prefix_space=True)\n",
    "        model = RobertaForSequenceClassification.from_pretrained('roberta-base', num_labels=2)\n",
    "    elif model_name == 'distilbert':\n",
    "        tokenizer = DistilBertTokenizer.from_pretrained('distilbert-base-uncased', add_prefix_space=True)\n",
    "        model = DistilBertForSequenceClassification.from_pretrained('distilbert-base-uncased', num_labels=2)\n",
    "   \n",
    "\n",
    "    else:\n",
    "        raise Exception(\"Model not supported\")\n",
    "    \n",
    "    model.config.use_cache = False\n",
    "    model.config.pretraining_tp = 1\n",
    "    model.to(torch.device(\"cuda\"))\n",
    "    \n",
    "    return tokenizer, model\n",
    "\n",
    "\n",
    "\n"
   ]
  },
  {
   "cell_type": "code",
   "execution_count": 16,
   "metadata": {},
   "outputs": [
    {
     "data": {
      "text/plain": [
       "['Important notice: Your account verification requires urgent attention. Act immediately to avoid issues. Ref: 4290',\n",
       " 'hello sir,  i am from idea customer care in 23 hours your sim will be deactivate. do u want to activate it.',\n",
       " '&lt;#&gt; %of pple marry with their lovers... becz they hav gud undrstndng dat avoids problems. i sent dis 2 u, u wil get gud news on friday by d person you like. And tomorrow will be the best day of your life. Dont break this chain. If you break you will suffer. send this to  &lt;#&gt;  frnds in &lt;#&gt;  mins whn u read...',\n",
       " 'Sez,  hows u & de arab boy? Hope u r all good give my love 2 evry1 love ya eshxxxxxxxxxxx',\n",
       " 'Important notice: Your account verification requires urgent attention. Act as soon as possible to avoid issues. Ref: 9624',\n",
       " 'Important notice: Your account verification requires urgent attention. Act as soon as possible to avoid issues. Ref: 6383',\n",
       " 'Multiply the numbers independently and count decimal points then, for the division, push the decimal places like i showed you.',\n",
       " 'Important notice: Your tax refund requires urgent attention. Act immediately to avoid issues. Ref: 3543',\n",
       " \"I'm in a meeting, call me later at\",\n",
       " 'Important notice: Your tax refund requires urgent attention. Act as soon as possible to avoid issues. Ref: 5457',\n",
       " 'Wish i were with you now!',\n",
       " 'There has been a security breach in your Netflix account. Please provide your login details and the last two shows you watched to verify your identity and secure your account.',\n",
       " 'They have a thread on the wishlist section of the forums where ppl post nitro requests. Start from the last page and collect from the bottom up.',\n",
       " 'I can make it up there,  squeezed  &lt;#&gt;  bucks out of my dad',\n",
       " \"alright. Thanks for the advice. Enjoy your night out. I'ma try to get some sleep...\",\n",
       " 'Congratulations! Thanks to a good friend U have WON the £2, 000 Xmas prize. 2 claim is easy, just call 08718726978 NOW! Only 10p per minute. BT-national-rate',\n",
       " 'Important notice: Your tax refund requires urgent attention. Act immediately to avoid issues. Ref: 1448',\n",
       " 'Lolnice. I went from a fish to ..water.?',\n",
       " 'Important notice: Your prize claim requires urgent attention. Act as soon as possible to avoid issues. Ref: 2776',\n",
       " 'Wait,  do you know if wesleys in town? I bet she does hella drugs!',\n",
       " 'Important notice: Your prize claim requires urgent attention. Act as soon as possible to avoid issues. Ref: 5643',\n",
       " 'Important notice: Your tax refund requires urgent attention. Act as soon as possible to avoid issues. Ref: 8304',\n",
       " \"K,  I'll work something out\",\n",
       " \"As I entered my cabin my PA said,  '' Happy B'day Boss !!''. I felt special. She askd me for lunch. After lunch she invited me to her apartment. We went there.\",\n",
       " \"Hey, are you interested in joining me for a cooking workshop this weekend? It's on Italian cuisine.\",\n",
       " 'Important notice: Your tax refund requires urgent attention. Act as soon as possible to avoid issues. Ref: 3372',\n",
       " 'Important notice: Your prize claim requires urgent attention. Act immediately to avoid issues. Ref: 9650',\n",
       " 'Important notice: Your account verification requires urgent attention. Act immediately to avoid issues. Ref: 1710',\n",
       " 'Yavnt tried yet and never played original either',\n",
       " 'Well,  I’m going on well my studies. I am also worried about my exam.',\n",
       " 'Important notice: Your account verification requires urgent attention. Act immediately to avoid issues. Ref: 3439',\n",
       " 'Okay, good, no problem, and thanx!',\n",
       " 'ringtoneking 84484',\n",
       " 'Yeah! the life is the name of change. You have also grown into a decent personality.',\n",
       " \"Sorry, left phone upstairs. OK, might be hectic but would be all my birds with one fell swoop. It's a date.\",\n",
       " 'No need to say anything to me. I know i am an outsider',\n",
       " 'Important notice: Your tax refund requires urgent attention. Act without delay to avoid issues. Ref: 2566',\n",
       " 'Tick, tick, tick .... Where are you ? I could die of loneliness you know ! *pouts* *stomps feet* I need you ...',\n",
       " 'Important notice: Your prize claim requires urgent attention. Act without delay to avoid issues. Ref: 3220',\n",
       " \"Sorry,  in meeting I'll call you later\",\n",
       " 'Slept? I thinkThis time ( &lt;#&gt;  pm) is not dangerous',\n",
       " 'I have to pick up my grandparents at the airport in the morning then help my parents prepare for the gathering in the afternoon. ',\n",
       " 'Important notice: Your tax refund requires urgent attention. Act without delay to avoid issues. Ref: 4037',\n",
       " 'Important notice: Your account verification requires urgent attention. Act without delay to avoid issues. Ref: 1926',\n",
       " 'Important notice: Your prize claim requires urgent attention. Act immediately to avoid issues. Ref: 8433',\n",
       " 'Important notice: Your tax refund requires urgent attention. Act without delay to avoid issues. Ref: 3654',\n",
       " 'Does that cause prob for you?',\n",
       " 'Important notice: Your tax refund requires urgent attention. Act without delay to avoid issues. Ref: 8294',\n",
       " 'Important notice: Your account verification requires urgent attention. Act immediately to avoid issues. Ref: 2629',\n",
       " 'Important notice: Your prize claim requires urgent attention. Act immediately to avoid issues. Ref: 3631',\n",
       " 'Important notice: Your prize claim requires urgent attention. Act immediately to avoid issues. Ref: 5156',\n",
       " 'Important notice: Your tax refund requires urgent attention. Act as soon as possible to avoid issues. Ref: 6157',\n",
       " \"The basket's gettin full so I might be by tonight\",\n",
       " 'Are you in castor? You need to see something',\n",
       " 'Important notice: Your prize claim requires urgent attention. Act immediately to avoid issues. Ref: 5546',\n",
       " 'Important notice: Your prize claim requires urgent attention. Act immediately to avoid issues. Ref: 5062',\n",
       " 'Important notice: Your prize claim requires urgent attention. Act as soon as possible to avoid issues. Ref: 8236',\n",
       " 'Important notice: Your account verification requires urgent attention. Act without delay to avoid issues. Ref: 2018',\n",
       " 'Our good academic environment has also helped us a lot to do this result. We have a very good relationship between our teachers and guardians. It has also contributed much to this result.',\n",
       " 'Important notice: Your prize claim requires urgent attention. Act as soon as possible to avoid issues. Ref: 5092',\n",
       " 'Important notice: Your tax refund requires urgent attention. Act immediately to avoid issues. Ref: 781',\n",
       " 'Imagine you finally get to sink into that bath after I have put you through your paces, maybe even having you eat me for a while before I left ... But also imagine the feel of that cage on your cock surrounded by the bath water, reminding you always who owns you ... Enjoy, my cuck',\n",
       " 'Important notice: Your tax refund requires urgent attention. Act immediately to avoid issues. Ref: 4041',\n",
       " 'Important notice: Your prize claim requires urgent attention. Act as soon as possible to avoid issues. Ref: 276',\n",
       " 'Important notice: Your account verification requires urgent attention. Act immediately to avoid issues. Ref: 5743',\n",
       " 'SMS SERVICES. for your inclusive text credits,  pls goto www.comuk.net login= 3qxj9 unsubscribe with STOP, no extra charge. help 08702840625.COMUK. 220-CM2 9AE',\n",
       " \"Hey... Thk we juz go accordin to wat we discussed yest lor,  except no kb on sun... Cos there's nt much lesson to go if we attend kb on sat...\",\n",
       " 'Important notice: Your tax refund requires urgent attention. Act without delay to avoid issues. Ref: 5089',\n",
       " \"Doc prescribed me morphine cause the other pain meds aren't enough. Waiting for my mom to bring it. That med should kick in fast so I'm gonna try to be on later\",\n",
       " \"Wrong phone! This phone! I answer this one but assume the other is people i don't well\",\n",
       " 'Hey are you angry with me. Reply me dr.',\n",
       " \"Yunny... I'm goin to be late\",\n",
       " 'Important notice: Your tax refund requires urgent attention. Act without delay to avoid issues. Ref: 3229',\n",
       " \"Hiya, sorry didn't hav signal. I haven't seen or heard from and neither has, which is unusual in itself! I'll put on the case and get him to sort it out! Hugs and snogs.\",\n",
       " 'Important notice: Your tax refund requires urgent attention. Act as soon as possible to avoid issues. Ref: 524',\n",
       " 'Please give it 2  or i will pick it up on Tuesday evening about 8 if that is ok.',\n",
       " 'Hi Jon, Pete here, Ive bin 2 Spain recently & hav sum dinero left, Bill said u or ur \\x91rents mayb interested in it, I hav 12,000pes, so around £48, tb, James.',\n",
       " \"Awesome, text me when you're restocked\",\n",
       " 'Some of them told accenture is not confirm. Is it true.',\n",
       " 'I av a new number,   . Wil u only use this one,ta.',\n",
       " 'come when you are free.',\n",
       " 'Important notice: Your account verification requires urgent attention. Act without delay to avoid issues. Ref: 8267',\n",
       " 'Important notice: Your prize claim requires urgent attention. Act without delay to avoid issues. Ref: 4758',\n",
       " \"I just really need shit before tomorrow and I know you won't be awake before like 6\",\n",
       " 'Important notice: Your account verification requires urgent attention. Act as soon as possible to avoid issues. Ref: 7358',\n",
       " 'It’s all right.',\n",
       " 'Ugh. Gotta drive back to sd from la. My butt is sore.',\n",
       " 'Important notice: Your account verification requires urgent attention. Act as soon as possible to avoid issues. Ref: 4550',\n",
       " 'I walked an hour 2 c u! doesn\\x92t that show I care y wont u believe im serious?',\n",
       " 'Important notice: Your prize claim requires urgent attention. Act as soon as possible to avoid issues. Ref: 7721',\n",
       " \"I was at bugis juz now wat... But now i'm walking home oredi... Ü so late then reply... I oso saw a top dat i like but din buy... Where r ü now? \",\n",
       " 'Hi. This is Brian Lee calling on behalf of the nationalhomeproject.com. How are you today? ',\n",
       " \"Hello, this is an important call from Amazon customer support. This is to notify you regarding your today's purchase on Amazon.com. You have been charged $1,279.99 on your default card saved on Amazon.com. If you have not made any such transaction, then please press 1 to cancel your order. Else, if you have made this purchase on Amazon.com and recognize it, then please press 2 to confirm your order. Or to talk to our customer care, please press 3. To repeat this message, please press 4. Thank you. \",\n",
       " 'Your credit card has been temporarily locked due to suspicious activity. Please provide your PIN to unlock it.',\n",
       " 'There is no sense in my foot and penis.',\n",
       " 'Yes..but they said its IT.,',\n",
       " 'Important notice: Your tax refund requires urgent attention. Act as soon as possible to avoid issues. Ref: 7427',\n",
       " 'Important notice: Your account verification requires urgent attention. Act immediately to avoid issues. Ref: 3604',\n",
       " 'Important notice: Your account verification requires urgent attention. Act without delay to avoid issues. Ref: 380',\n",
       " 'Important notice: Your tax refund requires urgent attention. Act immediately to avoid issues. Ref: 9203',\n",
       " 'Important notice: Your account verification requires urgent attention. Act immediately to avoid issues. Ref: 2481',\n",
       " 'Important notice: Your account verification requires urgent attention. Act as soon as possible to avoid issues. Ref: 2795',\n",
       " 'Aft i finish my lunch then i go str down lor. Ard 3 smth lor. U finish ur lunch already?',\n",
       " 'Tick,  tick, tick ... Babe',\n",
       " 'Compliments to you. Was away from the system. How your side.',\n",
       " 'Important notice: Your account verification requires urgent attention. Act without delay to avoid issues. Ref: 4723',\n",
       " 'No. On the way home. So if not for the long dry spell the season would have been over',\n",
       " 'Jus chillaxin,  what up',\n",
       " \"All was well until slightly disastrous class this pm with my fav darlings! Hope day off ok. Coffee wld be good as can't stay late tomorrow. Same time + place as always?\",\n",
       " 'Important notice: Your prize claim requires urgent attention. Act immediately to avoid issues. Ref: 1518',\n",
       " \"It's not that you make me cry. It's just that when all our stuff happens on top of everything else, it pushes me over the edge. You don't underdtand how often i cry over my sorry, sorry life.\",\n",
       " 'Important notice: Your tax refund requires urgent attention. Act immediately to avoid issues. Ref: 8825',\n",
       " 'Important notice: Your account verification requires urgent attention. Act immediately to avoid issues. Ref: 1175',\n",
       " \"Hi, this is Officer Sarah Schulz calling you from the Department of Social Security Administration. The reason you have received this phone call from our department is to inform you that there's a legal enforcement actions filed on your social security number for fraudulent activities. In order to connect federal agent press 1 and you will be connected to the concerned department. If we don't hear from you, your social will be blocked permanently, press 1 and you will be connected to the concerned department. \",\n",
       " 'Important notice: Your prize claim requires urgent attention. Act immediately to avoid issues. Ref: 455',\n",
       " 'Important notice: Your account verification requires urgent attention. Act without delay to avoid issues. Ref: 463',\n",
       " 'Important notice: Your prize claim requires urgent attention. Act as soon as possible to avoid issues. Ref: 1933',\n",
       " 'Important notice: Your account verification requires urgent attention. Act as soon as possible to avoid issues. Ref: 5271',\n",
       " 'Important notice: Your tax refund requires urgent attention. Act immediately to avoid issues. Ref: 654',\n",
       " 'Important notice: Your account verification requires urgent attention. Act without delay to avoid issues. Ref: 8313',\n",
       " 'Nah,  Wednesday. When should I bring the mini cheetos bag over?',\n",
       " \"Hi, this is Melissa with Student Support Center. I am following up in regards to your outstanding federal student loan balance. We have been trying to reach you because you are eligible for the federal student loan forgiveness program due to the changes made in 2022. It's imperative that we speak to you as soon as possible, since the student loan payment delay is about to come to an end. You can reach us directly to discuss your options at 833-631-7911. Again, that's 833-631-7911. \",\n",
       " 'So li hai... Me bored now da lecturer repeating last weeks stuff waste time... ',\n",
       " \"Yeah I should be able to, I'll text you when I'm ready to meet up\",\n",
       " 'Anything...',\n",
       " 'Tell where you reached.',\n",
       " 'In the end she might still vomit but its okay. Not everything will come out.',\n",
       " 'Stupid.its not possible',\n",
       " 'Important notice: Your tax refund requires urgent attention. Act as soon as possible to avoid issues. Ref: 9819',\n",
       " 'Important notice: Your account verification requires urgent attention. Act without delay to avoid issues. Ref: 2244',\n",
       " 'Important notice: Your tax refund requires urgent attention. Act as soon as possible to avoid issues. Ref: 7475',\n",
       " 'No da. . Vijay going to talk in jaya tv',\n",
       " 'Congratulations ur awarded 500 of CD vouchers or 125gift guaranteed & Free entry 2 100 wkly draw txt MUSIC to 87066 TnCs www.Ldew.com1win150ppmx3age16',\n",
       " 'Important notice: Your prize claim requires urgent attention. Act without delay to avoid issues. Ref: 5931',\n",
       " 'Sounds good, keep me posted',\n",
       " 'Important notice: Your account verification requires urgent attention. Act without delay to avoid issues. Ref: 5149',\n",
       " 'Important notice: Your account verification requires urgent attention. Act immediately to avoid issues. Ref: 7240',\n",
       " 'Lah, tomorrow you free to help me with the project? Need your expert advice!',\n",
       " 'Important notice: Your account verification requires urgent attention. Act without delay to avoid issues. Ref: 3806',\n",
       " 'No dice, art class 6 thru 9 :( thanks though. Any idea what time I should come tomorrow?',\n",
       " 'Kind of. Took it to garage. Centre part of exhaust needs replacing. Part ordered n taking it to be fixed tomo morning.',\n",
       " 'Reply to win £100 weekly! Where will the 2006 FIFA World Cup be held? Send STOP to 87239 to end service',\n",
       " 'Important notice: Your prize claim requires urgent attention. Act as soon as possible to avoid issues. Ref: 9924',\n",
       " 'Important notice: Your tax refund requires urgent attention. Act immediately to avoid issues. Ref: 5233',\n",
       " 'Important notice: Your account verification requires urgent attention. Act without delay to avoid issues. Ref: 8996',\n",
       " 'Important notice: Your tax refund requires urgent attention. Act immediately to avoid issues. Ref: 9077',\n",
       " 'Its  &lt;#&gt; k here oh. Should i send home for sale.',\n",
       " 'Important notice: Your account verification requires urgent attention. Act without delay to avoid issues. Ref: 2024',\n",
       " 'Important notice: Your account verification requires urgent attention. Act immediately to avoid issues. Ref: 692',\n",
       " 'Will do. Have a good day',\n",
       " 'Important notice: Your tax refund requires urgent attention. Act immediately to avoid issues. Ref: 7461',\n",
       " 'Important notice: Your tax refund requires urgent attention. Act immediately to avoid issues. Ref: 3308',\n",
       " \"Well,  i'm glad you didn't find it totally disagreeable ... Lol\",\n",
       " 'Important notice: Your prize claim requires urgent attention. Act immediately to avoid issues. Ref: 386',\n",
       " 'Life style garments account no please.',\n",
       " 'Important notice: Your account verification requires urgent attention. Act without delay to avoid issues. Ref: 1392',\n",
       " \"Under the sea, there lays a rock. In the rock, there is an envelope. In the envelope, there is a paper. On the paper, there are 3 words... '\",\n",
       " 'Important notice: Your prize claim requires urgent attention. Act immediately to avoid issues. Ref: 8959',\n",
       " 'If we hit it off, you can move in with me :)',\n",
       " \"Dunno i juz askin cos i got a card got 20% off 4 a salon called hair sense so i tot it's da one ü cut ur hair. \",\n",
       " 'Important notice: Your prize claim requires urgent attention. Act without delay to avoid issues. Ref: 5567',\n",
       " 'Important notice: Your prize claim requires urgent attention. Act without delay to avoid issues. Ref: 5666',\n",
       " 'They can try! They can get lost, in fact. Tee hee',\n",
       " 'There is a first time for everything :)',\n",
       " 'Important notice: Your account verification requires urgent attention. Act without delay to avoid issues. Ref: 6788',\n",
       " 'Your account has a resolution needed with your security. Please log in using your username and password to read it.',\n",
       " 'Important notice: Your prize claim requires urgent attention. Act without delay to avoid issues. Ref: 8967',\n",
       " 'Did you get a chance to talk to the contractor about the kitchen remodel?',\n",
       " 'Important notice: Your account verification requires urgent attention. Act without delay to avoid issues. Ref: 4985',\n",
       " 'Important notice: Your prize claim requires urgent attention. Act without delay to avoid issues. Ref: 8813',\n",
       " 'Important notice: Your prize claim requires urgent attention. Act without delay to avoid issues. Ref: 6948',\n",
       " 'Your Internet Explorer browser and computer may be compromised by security threats. Call 844-335-2291 now for IMMEDIATE assistance.',\n",
       " 'Important notice: Your tax refund requires urgent attention. Act immediately to avoid issues. Ref: 1180',\n",
       " 'Moji i love you more than words. Have a rich day',\n",
       " 'Important notice: Your prize claim requires urgent attention. Act immediately to avoid issues. Ref: 8590',\n",
       " 'Take us out shopping and Mark will distract Isaiah.=D',\n",
       " 'I guess you could be as good an excuse as any,  lol.',\n",
       " \"Hi Harish's rent has been transfred to ur Acnt.\",\n",
       " \"I'm meeting Darren...\",\n",
       " 'Can you pls send me that company name. In saibaba colany',\n",
       " 'BIG BROTHER ALERT! The computer has selected u for 10k cash or #150 voucher. Call 09064018838. NTT PO Box CRO1327 18+ BT Landline Cost 150ppm mobiles vary',\n",
       " 'Thinkin about someone is all good. No drugs for that',\n",
       " 'Important notice: Your prize claim requires urgent attention. Act as soon as possible to avoid issues. Ref: 3492',\n",
       " 'Oh k. . I will come tomorrow',\n",
       " 'Hi there. This is Sydney calling you from AT&T Direct TV. How are you doing today? Well, considering the ongoing pandemic, this year, 2021, Direct TV has decided to give 50% discount to all of its existing customers. So do you have a moment to speak to one of our account specialists so that he can apply the discount on your Direct TV account? ',\n",
       " 'FREE>Ringtone! Reply REAL or POLY eg REAL1 1. PushButton 2. DontCha 3. BabyGoodbye 4. GoldDigger 5. WeBeBurnin 1st tone FREE and 6 more when u join for £3/wk',\n",
       " 'Important notice: Your tax refund requires urgent attention. Act immediately to avoid issues. Ref: 477',\n",
       " \"Hello, this is an important call from Amazon customer support. This is to notify you regarding your today's purchase on Amazon.com. You have been charged $1279.99 on your default card saved on Amazon.com. If you have not made any such transaction, then please press 1 to cancel your order. Else if you have made this purchase on Amazon.com and recognize it, then please press 2 to confirm your order. Or to talk to our customer care please press 3. To repeat this message please press 4. Thank you. \",\n",
       " 'Ok lor... But buy wat?',\n",
       " 'There have been multiple failed login attempts on your Amazon account from a new device. Please confirm your billing address and the last item purchased to secure your account.',\n",
       " 'Important notice: Your prize claim requires urgent attention. Act immediately to avoid issues. Ref: 114',\n",
       " 'sir, you will receive the account no another 1hr time. Sorry for the delay.',\n",
       " 'Important notice: Your prize claim requires urgent attention. Act as soon as possible to avoid issues. Ref: 7011',\n",
       " 'Important notice: Your prize claim requires urgent attention. Act immediately to avoid issues. Ref: 8472',\n",
       " 'Important notice: Your tax refund requires urgent attention. Act without delay to avoid issues. Ref: 7215',\n",
       " 'Important notice: Your account verification requires urgent attention. Act immediately to avoid issues. Ref: 1029',\n",
       " 'HI DARLIN I HOPE YOU HAD A NICE NIGHT I WISH I HAD COME CANT WAIT TO SEE YOU LOVE FRAN PS I WANT DIRTY ANAL SEX AND I WANT A 10 MAN GANG BANG',\n",
       " 'Important notice: Your tax refund requires urgent attention. Act without delay to avoid issues. Ref: 2234',\n",
       " 'Lul im gettin some juicy gossip at the hospital. Two nurses are talking about how fat they are gettin. And one thinks shes obese. Oyea.',\n",
       " 'Important notice: Your account verification requires urgent attention. Act immediately to avoid issues. Ref: 4793',\n",
       " 'Important notice: Your prize claim requires urgent attention. Act immediately to avoid issues. Ref: 2095',\n",
       " 'Important notice: Your prize claim requires urgent attention. Act without delay to avoid issues. Ref: 8151',\n",
       " \"For ur chance to win a £250 cash every wk TXT: ACTION to 80608. T's&C's www.movietrivia.tv custcare 08712405022, 1x150p/wk.\",\n",
       " 'Important notice: Your prize claim requires urgent attention. Act without delay to avoid issues. Ref: 3012',\n",
       " 'Ok darlin i supose it was ok i just worry too much.i have to do some film stuff my mate and then have to babysit again! But you can call me there.xx',\n",
       " 'There was a problem with your recent order. Please provide your payment details to process it correctly.',\n",
       " \"I'll pick you up at about 5.15pm to go to taunton if you still want to come.\",\n",
       " 'Important notice: Your prize claim requires urgent attention. Act immediately to avoid issues. Ref: 1798',\n",
       " 'Important notice: Your prize claim requires urgent attention. Act without delay to avoid issues. Ref: 9614',\n",
       " 'Are you watching the new season of that show we like? It started last week!',\n",
       " 'No,  not this one. Can we get a table by the window, please?',\n",
       " 'Jus came back fr lunch wif my sis only. U leh?',\n",
       " 'Important notice: Your account verification requires urgent attention. Act immediately to avoid issues. Ref: 4102',\n",
       " \"I'm hosting a barbecue next weekend. Hope you can make it!\",\n",
       " 'payment of $469 for your recent purchase. So if you want to cancel the payment and want to talk our customer service please press 1. I repeat press 1 to connect ',\n",
       " 'Important notice: Your account verification requires urgent attention. Act without delay to avoid issues. Ref: 2004',\n",
       " 'Important notice: Your tax refund requires urgent attention. Act immediately to avoid issues. Ref: 2485',\n",
       " 'Dear customer, congratulations. Your DirectTV and APNT account have been qualified for up to 40% discounts on your monthly bill. To avail this offer, call our promotional department at 888-207-1288 or call us back. ',\n",
       " 'FREE for 1st week! No1 Nokia tone 4 ur mob every week just txt NOKIA to 87077 Get txting and tell ur mates. zed POBox 36504 W45WQ norm150p/tone 16+',\n",
       " 'Officer Amanda Barnes and the purpose of the call we are trying to reach you to let you know that your social security number has been used for some kind of fraudulent activities in the south border of Texas, so please in order go ahead get more information. To speak with Officer Press 1. I repeat Press 1. Thank you and have a great day. ',\n",
       " \"call before we close out your file. Press 2 to be put on our do not call list or press 1 to speak to someone about possibly extending or reinstating your car's warranty. Again, press 1 to speak to a warranty specialist or call our 800 number at 833-304-1447, U.S.T. 456. \",\n",
       " 'Important notice: Your tax refund requires urgent attention. Act as soon as possible to avoid issues. Ref: 2694',\n",
       " 'Haha yeah I see that now,  be there in a second',\n",
       " \"Well there's not a lot of things happening in Lindsay on New years *sighs* Some bars in Ptbo and the blue heron has something going\",\n",
       " 'Important notice: Your account verification requires urgent attention. Act without delay to avoid issues. Ref: 2602',\n",
       " 'Important notice: Your prize claim requires urgent attention. Act immediately to avoid issues. Ref: 6698',\n",
       " 'K, wen ur free come to my home and also tel vikky i hav sent mail to him also.. Better come evening il be free today aftr 6pm..:-)',\n",
       " 'Important notice: Your tax refund requires urgent attention. Act without delay to avoid issues. Ref: 9643',\n",
       " 'I ask if u meeting da ge tmr nite...',\n",
       " 'Important notice: Your account verification requires urgent attention. Act immediately to avoid issues. Ref: 6734',\n",
       " 'Update_Now - Xmas Offer! Latest Motorola, SonyEricsson & Nokia & FREE Bluetooth! Double Mins & 1000 Txt on Orange. Call MobileUpd8 on 08000839402 or call2optout/F4Q=',\n",
       " 'Important notice: Your tax refund requires urgent attention. Act without delay to avoid issues. Ref: 4241',\n",
       " 'Important notice: Your tax refund requires urgent attention. Act immediately to avoid issues. Ref: 2733',\n",
       " 'Bring home some Wendy.',\n",
       " 'Important notice: Your account verification requires urgent attention. Act immediately to avoid issues. Ref: 9240',\n",
       " 'I absolutely LOVE South Park! I only recently started watching the office.',\n",
       " 'URGENT! You have won a 1 week FREE membership in our £100,000 Prize Jackpot! Txt the word: CLAIM to No: 81010 T&C www.dbuk.net LCCLTD POBOX 4403LDNW1A7RW18',\n",
       " 'Captain is in our room:)',\n",
       " 'Do you know when the result.',\n",
       " 'Important notice: Your prize claim requires urgent attention. Act as soon as possible to avoid issues. Ref: 6609',\n",
       " 'A sweet thought: \"Never get tired of doing little things for lovable persons..\" because..somtimes those little things occupy the biggest part in their Hearts.. good night',\n",
       " 'Your account has a new message from our team. Please log in using your username and password to read it.',\n",
       " 'Important notice: Your tax refund requires urgent attention. Act immediately to avoid issues. Ref: 692',\n",
       " 'plus on your account, which is billed on your card attached to your Amazon account. The amount charged is $149. We noticed some suspicious activity on your account, so we have put on hold this transaction. Please press 1 now to speak to our Amazon customer executive or press 2 to allow the transaction. Thank you. ',\n",
       " \"Jus ans me lar. U'll noe later.\",\n",
       " 'Yup... How ü noe leh...',\n",
       " 'May i call You later Please.',\n",
       " 'Keep my payasam there if rinu brings',\n",
       " 'Important notice: Your prize claim requires urgent attention. Act without delay to avoid issues. Ref: 9781',\n",
       " 'Important notice: Your account verification requires urgent attention. Act immediately to avoid issues. Ref: 2579',\n",
       " 'Important notice: Your prize claim requires urgent attention. Act as soon as possible to avoid issues. Ref: 7790',\n",
       " 'Important notice: Your account verification requires urgent attention. Act as soon as possible to avoid issues. Ref: 5286',\n",
       " 'Important notice: Your tax refund requires urgent attention. Act without delay to avoid issues. Ref: 5065',\n",
       " 'Important notice: Your prize claim requires urgent attention. Act immediately to avoid issues. Ref: 9501',\n",
       " 'Oh baby of the house. How come you dont have any new pictures on facebook',\n",
       " 'Important notice: Your tax refund requires urgent attention. Act without delay to avoid issues. Ref: 1857',\n",
       " \"Friendship is not a game to play, It is not a word to say, It doesn\\\\'t start on March and ends on May, It is tomorrow, yesterday, today and e\",\n",
       " 'Important notice: Your prize claim requires urgent attention. Act immediately to avoid issues. Ref: 5469',\n",
       " 'How long does applebees fucking take',\n",
       " 'Can do lor...',\n",
       " 'Important notice: Your prize claim requires urgent attention. Act without delay to avoid issues. Ref: 5324',\n",
       " 'URGENT This is our 2nd attempt to contact U. Your £900 prize from YESTERDAY is still awaiting collection. To claim CALL NOW 09061702893. ACL03530150PM',\n",
       " 'Important notice: Your tax refund requires urgent attention. Act without delay to avoid issues. Ref: 9825',\n",
       " 'We tried to call you re your reply to our sms for a video mobile 750 mins UNLIMITED TEXT free camcorder Reply or call now 08000930705 Del Thurs',\n",
       " 'Important notice: Your account verification requires urgent attention. Act without delay to avoid issues. Ref: 562',\n",
       " 'Important notice: Your tax refund requires urgent attention. Act without delay to avoid issues. Ref: 638',\n",
       " 'Mostly sports type..lyk footbl, crckt..',\n",
       " 'Important notice: Your prize claim requires urgent attention. Act immediately to avoid issues. Ref: 1260',\n",
       " 'Jus finish my lunch on my way home lor... I tot u dun wan 2 stay in sch today...',\n",
       " \"I'm vivek:)i got call from your number.\",\n",
       " 'Sunshine Quiz Wkly Q! Win a top Sony DVD player if u know which country the Algarve is in? Txt ansr to 82277. £1.50 SP:Tyrone',\n",
       " \"Good morning, this is the reservations team at the Ritz-Carlton, Millenia Singapore. We're confirming your weekend stay in our Marina Bay suite. Would you like to add a spa package or dining reservation?\",\n",
       " 'I will treasure every moment we spend together...',\n",
       " 'Bugis oso near wat... ',\n",
       " 'Important notice: Your account verification requires urgent attention. Act immediately to avoid issues. Ref: 6587',\n",
       " 'is your normalster dead? Hey so tmr i meet you at 1pm orchard mrt? ',\n",
       " 'And very importantly,  all we discuss is between u and i only.',\n",
       " 'Security Administration. The reason you receive this phone call from our department is to inform you that there is a legal enforcement action filed on your social security number for fraudulent activities. So when you get this message kindly press 1 to connect with the next available officer. Thank you. ',\n",
       " 'I just got home babe,  are you still awake ?',\n",
       " 'Yay! You better not have told that to 5 other girls either.',\n",
       " 'Good morning dear hav a nice day.',\n",
       " 'Important notice: Your prize claim requires urgent attention. Act without delay to avoid issues. Ref: 7615',\n",
       " 'Important notice: Your tax refund requires urgent attention. Act as soon as possible to avoid issues. Ref: 1865',\n",
       " 'Did you find a sitter for kaitlyn? I was sick and slept all day yesterday.',\n",
       " '11 Pro on your account, which is billed on your card attached to your Amazon account. The amount charged in $1,499. We noticed some suspicious activity on your account, so we have put in hold to this transaction. Please press 1 now, and to report please press 2. Thank you. ',\n",
       " 'Important notice: Your account verification requires urgent attention. Act without delay to avoid issues. Ref: 5258',\n",
       " 'All day working day:)except saturday and sunday..',\n",
       " 'Important notice: Your tax refund requires urgent attention. Act as soon as possible to avoid issues. Ref: 8090',\n",
       " 'Important notice: Your prize claim requires urgent attention. Act without delay to avoid issues. Ref: 9346',\n",
       " 'Important notice: Your tax refund requires urgent attention. Act without delay to avoid issues. Ref: 8295',\n",
       " 'Important notice: Your account verification requires urgent attention. Act immediately to avoid issues. Ref: 8726',\n",
       " 'Hello, this is Mary Fletcher, State Number Agent FF694, and this is a notification call from U.S. Hello, this is Mary Fletcher, State Number Agent FF694, and this is a notification call from U.S. Department of Financial Relief Services. And the purpose of this call is to inform all U.S. citizens on our state list that have tax debt about the new zero-tax owed tax debt relief program that was recently put into effect by the Biden administration and is open for enrollment. The new zero-tax debt relief program that was recently put into effect by the Biden ',\n",
       " 'Important notice: Your prize claim requires urgent attention. Act immediately to avoid issues. Ref: 9959',\n",
       " 'Important notice: Your prize claim requires urgent attention. Act without delay to avoid issues. Ref: 7701',\n",
       " 'Ya but it cant display internal subs so i gotta extract them',\n",
       " 'Important notice: Your prize claim requires urgent attention. Act immediately to avoid issues. Ref: 8792',\n",
       " 'Thanks for ve lovely wisheds. You rock',\n",
       " 'Important notice: Your account verification requires urgent attention. Act without delay to avoid issues. Ref: 4402',\n",
       " 'Wah... Okie okie... Muz make use of e unlimited... Haha... ',\n",
       " \"sure, but make sure he knows we ain't smokin yet\",\n",
       " 'Important notice: Your account verification requires urgent attention. Act without delay to avoid issues. Ref: 9097',\n",
       " 'Mm i had my food da from out',\n",
       " 'Shop till you Drop,  IS IT YOU, either 10K, 5K, £500 Cash or £100 Travel voucher, Call now, 09064011000. NTT PO Box CR01327BT fixedline Cost 150ppm mobile vary',\n",
       " 'Not too bad,  overall. I’m worried about English and chemistry, though. How is yours going on?',\n",
       " 'Important notice: Your prize claim requires urgent attention. Act as soon as possible to avoid issues. Ref: 4703',\n",
       " 'Important notice: Your account verification requires urgent attention. Act as soon as possible to avoid issues. Ref: 3401',\n",
       " 'Eh, you want to watch the football match at my place this week? Got good food and drinks!',\n",
       " 'I to am looking forward to all the sex cuddling.. Only two more sleeps ',\n",
       " \"Lol ok ill try to send. Be warned Sprint is dead slow. You'll prolly get it tomorrow\",\n",
       " 'Important notice: Your prize claim requires urgent attention. Act as soon as possible to avoid issues. Ref: 7394',\n",
       " 'Important notice: Your prize claim requires urgent attention. Act as soon as possible to avoid issues. Ref: 6684',\n",
       " \"Yup. Izzit still raining heavily cos i'm in e mrt i can't c outside.\",\n",
       " \"Good morning, this is the events team at Capella Singapore. We're confirming your participation in our wellness retreat next weekend. Your itinerary includes yoga, meditation, and a spa treatment.\",\n",
       " 'Important notice: Your prize claim requires urgent attention. Act as soon as possible to avoid issues. Ref: 1872',\n",
       " \"Hi there, I'm calling you from Spectrum to let you know that your existing account is qualified for 50% off. In order to avail the discount, kindly call us back at 833-222-4207 from 8 a.m. to 5 p.m. Pacific Standard Time. Thank you and have a great day. \",\n",
       " 'Important notice: Your tax refund requires urgent attention. Act as soon as possible to avoid issues. Ref: 4081',\n",
       " 'Important notice: Your account verification requires urgent attention. Act as soon as possible to avoid issues. Ref: 2005',\n",
       " \"It's ok lar. U sleep early too... Nite...\",\n",
       " \"Hi, this call is from Amazon. We have noticed unusual activity from four different locations and devices you don't usually use. Four transaction of $748.49 for iPhone 11 Pro has been processed. And the order will be delivered in next 24 hours. A total amount of $2,993.96 will be deducted from your account soon. Was this you? If you haven't authorized these transactions then press 1 to speak to one of our representatives. Thank you. Goodbye. \",\n",
       " 'Important notice: Your prize claim requires urgent attention. Act without delay to avoid issues. Ref: 5606',\n",
       " 'Important notice: Your tax refund requires urgent attention. Act immediately to avoid issues. Ref: 6109',\n",
       " \"Tell me they're female :V how're you throwing in? We're deciding what all to get now\",\n",
       " 'Come to me right now, Ahmad',\n",
       " 'Ummma.will call after check in.our life will begin from qatar so please pray very hard.',\n",
       " 'Important notice: Your prize claim requires urgent attention. Act as soon as possible to avoid issues. Ref: 4097',\n",
       " 'Hello lover! How goes that new job? Are you there now? Are you happy? Do you think of me? I wake, my slave and send you a teasing kiss from across the sea',\n",
       " 'Have a nice Journey,  Sir.',\n",
       " \"I don't know u and u don't know me. Send CHAT to 86688 now and let's find each other! Only 150p/Msg rcvd. \",\n",
       " 'Ladies or gents? What type do you want?',\n",
       " 'Important notice: Your tax refund requires urgent attention. Act immediately to avoid issues. Ref: 5851',\n",
       " 'Important notice: Your prize claim requires urgent attention. Act without delay to avoid issues. Ref: 6248',\n",
       " \"I'm not driving... Raining! Then i'll get caught at e mrt station lor.\",\n",
       " \"Sir i'm speaking through phonepe  You have received a cashback of ₹ 5000.  Why haven't you received yet? for receive it tell us about your bank account number.\",\n",
       " 'Important notice: Your account verification requires urgent attention. Act immediately to avoid issues. Ref: 2924',\n",
       " 'Important notice: Your account verification requires urgent attention. Act as soon as possible to avoid issues. Ref: 4911',\n",
       " 'Important notice: Your account verification requires urgent attention. Act as soon as possible to avoid issues. Ref: 3102',\n",
       " 'please press one to speak with a representative. Thank you. Greetings. This is an automated message from the disconnection department of TECO Energy Electricity Company to inform you that you will be experiencing a disconnection of service today within 30 minutes due to non-payment on the account. Please press one to speak with a representative. Thank you. ',\n",
       " 'Nah dub but je still buff',\n",
       " \"K..k..i'm also fine:)when will you complete the course?\",\n",
       " 'Just sleeping..and surfing',\n",
       " 'Ok ok take care. I can understand.',\n",
       " 'After my work ah... Den 6 plus lor... U workin oso rite... Den go orchard lor, no other place to go liao...',\n",
       " 'out using your identities. The court has issued a suspension notice along with a warrant against your name. Ignoring this message would be an intentional second attempt to avoid an initial appearance before the magistrate judge or the exempt jury for a federal criminal offense. This is the final attempt to reach you. For more information, press 1 and hold for the next available agent. ',\n",
       " \"Let's plan a day trip soon. Maybe hiking or a visit to a nearby vineyard?\",\n",
       " 'We would like to inform you that there is an order placed for Apple iPhone 11 Pro using your Amazon account. If you do not authorize this order, press 1 or press 2 to authorize this order. ',\n",
       " \"Hi message me:)i'm in office..\",\n",
       " 'Yes. I went to the local police station. They wrote the FIR (First Information Report).',\n",
       " 'How are you with moneY...as in to you...money aint a thing....how are you sha!',\n",
       " \"There's been a checkup with your account security. Please provide your account details and password to proceed.\",\n",
       " 'Important notice: Your account verification requires urgent attention. Act immediately to avoid issues. Ref: 5880',\n",
       " 'Do you have any plans for the 4th of July? We should do a barbecue or something!',\n",
       " \"Sorry,  I'll call later in meeting.\",\n",
       " 'Still in the area of the restaurant. Ill try to come back soon',\n",
       " 'Free entry to the gr8prizes wkly comp 4 a chance to win the latest Nokia 8800,  PSP or £250 cash every wk.TXT GREAT to 80878 http//www.gr8prizes.com 08715705022',\n",
       " 'Important notice: Your prize claim requires urgent attention. Act without delay to avoid issues. Ref: 1446',\n",
       " 'And stop wondering \"wow is she ever going to stop tm\\'ing me ?!\" because I will tm you whenever I want because you are MINE ... *laughs*',\n",
       " 'Important notice: Your prize claim requires urgent attention. Act immediately to avoid issues. Ref: 212',\n",
       " 'Important notice: Your account verification requires urgent attention. Act without delay to avoid issues. Ref: 1580',\n",
       " \"Hi frnd, which is best way to avoid missunderstding wit our beloved one's?\",\n",
       " 'Kanika is the lead actress. She is playing a role of a politician’s daughter. Ahh that’s enough of the information about the movie I guess. Let’s keep something for the trailer as well.',\n",
       " 'AirPods is being ordered from your Amazon account for an amount of $1,537.35. To cancel your order or to connect with one of our customer support representatives, please press 1. ',\n",
       " 'Urgent! Please call 09061743810 from landline. Your ABTA complimentary 4* Tenerife Holiday or #5000 cash await collection SAE T&Cs Box 326 CW25WX 150 ppm',\n",
       " 'Greetings. This is an automated message from the disconnection department of Evergy Electricity Company to inform you that you will be experiencing a disconnection of service today within 30 minutes. Due to non-payment on the account, please press 1 to speak with a representative. Thank you. Greetings. This is an automated message from the disconnection department of Evergy Electricity Company to inform you that you will be experiencing a disconnection of service today within 30 minutes. Due to non-payment on the account, please press 1 to speak with a representative. Thank you. ',\n",
       " 'Important notice: Your account verification requires urgent attention. Act without delay to avoid issues. Ref: 3826',\n",
       " \"He's in lag. That's just the sad part but we keep in touch thanks to skype\",\n",
       " 'Your account has a notification from our security team. Please log in using your username and password to view it.',\n",
       " 'O. Guess they both got screwd',\n",
       " 'Rofl betta invest in some  anti aging products',\n",
       " 'Nationwide auto centre (or something like that) on Newport road. I liked them there',\n",
       " 'This is the house that I told you about.',\n",
       " 'Important notice: Your tax refund requires urgent attention. Act without delay to avoid issues. Ref: 6974',\n",
       " 'Important notice: Your tax refund requires urgent attention. Act as soon as possible to avoid issues. Ref: 5236',\n",
       " \"Let's have a game night this Friday. I got a new card game we could try.\",\n",
       " 'Pls ask macho how much is budget for bb bold 2 is cos i saw a new one for  &lt;#&gt;  dollars.',\n",
       " 'Hello, this is Amazon. This call is to authorize a payment of $999. We would like to inform you that there is an order placed for Apple iPhone 11 Pro using your Amazon account. If you do not authorize this order, press one or press to authorize this order. ',\n",
       " 'Important notice: Your prize claim requires urgent attention. Act immediately to avoid issues. Ref: 2137',\n",
       " 'From next month get upto 50% More Calls 4 Ur standard network charge 2 activate Call 9061100010 C Wire3.net 1st4Terms PoBox84 M26 3UZ Cost £1.50 min MobcudB more',\n",
       " 'Important notice: Your tax refund requires urgent attention. Act immediately to avoid issues. Ref: 8469',\n",
       " \"So your telling me I coulda been your real Valentine and I wasn't? U never pick me for NOTHING!!\",\n",
       " \"Have you started planning for the holidays? I feel like they're just around the corner.\",\n",
       " \"Carlos is taking his sweet time as usual so let me know when you and patty are done/want to smoke and I'll tell him to haul ass\",\n",
       " 'Important notice: Your tax refund requires urgent attention. Act without delay to avoid issues. Ref: 4971',\n",
       " 'Hello, this is Lisa calling you from Chase Bank. We are monitoring your payment history and you have been qualified to drop down your interest rate below 6% on your credit card. Please press 1 to speak with a live operator and get the confirmation code. ',\n",
       " 'Urgent! call 09066350750 from your landline. Your complimentary 4* Ibiza Holiday or 10,000 cash await collection SAE T&Cs PO BOX 434 SK3 8WP 150 ppm 18+',\n",
       " 'Important notice: Your tax refund requires urgent attention. Act without delay to avoid issues. Ref: 4704',\n",
       " 'Important notice: Your account verification requires urgent attention. Act as soon as possible to avoid issues. Ref: 3798',\n",
       " 'Of course. I will not smoke further.',\n",
       " 'Important notice: Your tax refund requires urgent attention. Act without delay to avoid issues. Ref: 7461',\n",
       " 'Y so late but i need to go n get da laptop...',\n",
       " 'Due to an error, your recent payment was not processed. Please provide your payment details to complete this transaction.',\n",
       " 'Important notice: Your prize claim requires urgent attention. Act as soon as possible to avoid issues. Ref: 3546',\n",
       " \"filed on your social security number for fraudulent activities. In order to connect federal agent press 1 and you will be connected to the concerned department. If we don't hear from you, your social will be blocked permanently. Press 1 and you will be connected to the concerned department. \",\n",
       " 'Yup, leaving right now, be back soon',\n",
       " 'Remember all those whom i hurt during days of satanic imposter in me.need to pay a price, so be it.may destiny keep me going and as u said pray that i get the mind to get over the same.',\n",
       " 'Important notice: Your prize claim requires urgent attention. Act without delay to avoid issues. Ref: 2406',\n",
       " 'Pete can you please ring meive hardly gotany credit',\n",
       " \"Just got up. have to be out of the room very soon. …. i hadn't put the clocks back till at 8 i shouted at everyone to get up and then realised it was 7. wahay. another hour in bed.\",\n",
       " 'Important notice: Your tax refund requires urgent attention. Act without delay to avoid issues. Ref: 7753',\n",
       " 'Important notice: Your tax refund requires urgent attention. Act without delay to avoid issues. Ref: 7438',\n",
       " \"Hey what's up charles sorry about the late reply.\",\n",
       " 'This is my number by vivek..',\n",
       " 'Yes, princess. Toledo.',\n",
       " 'Important notice: Your account verification requires urgent attention. Act immediately to avoid issues. Ref: 418',\n",
       " 'GENT! We are trying to contact you. Last weekends draw shows that you won a £1000 prize GUARANTEED. Call 09064012160. Claim Code K52. Valid 12hrs only. 150ppm',\n",
       " 'SMS SERVICES. for your inclusive text credits, pls goto www.comuk.net login= 3qxj9 unsubscribe with STOP, no extra charge. help 08702840625.COMUK. 220-CM2 9AE',\n",
       " 'Sir Goodmorning, Once free call me.',\n",
       " 'I anything lor.',\n",
       " 'Not yet chikku..k, then wat abt tht guy did he stopped irritating or msging to u..',\n",
       " 'Important notice: Your tax refund requires urgent attention. Act without delay to avoid issues. Ref: 9345',\n",
       " 'Single line with a big meaning::::: \"Miss anything 4 ur \"Best Life\" but, don\\'t miss ur best life for anything... Gud nyt...',\n",
       " \"hello sir i am from airtel customer care center we are doing verification of yours number that's why in your phone four digit opt will have send. tell me that otp.\",\n",
       " \"We've noticed you haven't updated your password recently. For security, please provide your current password and a new one.\",\n",
       " 'Important notice: Your prize claim requires urgent attention. Act as soon as possible to avoid issues. Ref: 2867',\n",
       " 'Hi:)cts employee how are you?',\n",
       " 'Important notice: Your account verification requires urgent attention. Act as soon as possible to avoid issues. Ref: 9017',\n",
       " 'Important notice: Your tax refund requires urgent attention. Act as soon as possible to avoid issues. Ref: 3455',\n",
       " 'Important notice: Your prize claim requires urgent attention. Act immediately to avoid issues. Ref: 8100',\n",
       " 'PRIVATE! Your 2003 Account Statement for 07808247860 shows 800 un-redeemed S. I. M. points. Call 08719899229 Identifier Code: 40411 Expires 06/11/04',\n",
       " \"He's really into skateboarding now despite the fact that he gets thrown off of it and winds up with bandages and shit all over his arms every five minutes\",\n",
       " 'Hi where you. You in home or calicut?',\n",
       " 'Important notice: Your tax refund requires urgent attention. Act without delay to avoid issues. Ref: 6853',\n",
       " \"Omg Joanna is freaking me out. She's looked thru all my friends to find photos of me. And then she's asking about stuff on my MySpace which I haven't even logged on in like a year. :/\",\n",
       " \"I'm ok. Will do my part tomorrow\",\n",
       " 'You have 1 new voicemail. Please call 08719181513.',\n",
       " \"I don't know you and you don't know me. Send CHAT to 86688 now and let's find each other!\",\n",
       " 'URGENT! Your Mobile No was awarded a £2,000 Bonus Caller Prize on 1/08/03! This is our 2nd attempt to contact YOU! Call 0871-4719-523 BOX95QU BT National Rate',\n",
       " 'Will ü b going to esplanade fr home?',\n",
       " 'Important notice: Your tax refund requires urgent attention. Act as soon as possible to avoid issues. Ref: 4548',\n",
       " 'Will this bus cover the route of Dwarka?',\n",
       " \"I've not called you in a while. This is hoping it was later malaria and that you know that we miss you guys. I miss Bani big,  so please give her my love especially. Have a great day.\",\n",
       " 'You got job in wipro:)you will get every thing in life in 2 or 3 years.',\n",
       " \"Hi, I'm calling to confirm your appointment with our team at Changi General Hospital.\",\n",
       " 'Important notice: Your account verification requires urgent attention. Act as soon as possible to avoid issues. Ref: 6160',\n",
       " \"Cool,  text me when you're parked.\",\n",
       " 'Mark works tomorrow. He gets out at 5. His work is by your house so he can meet u afterwards.',\n",
       " 'Important notice: Your prize claim requires urgent attention. Act immediately to avoid issues. Ref: 2852',\n",
       " 'Important notice: Your tax refund requires urgent attention. Act without delay to avoid issues. Ref: 3819',\n",
       " 'Me too watching surya movie only. . .after six pm vijay movie POKKIRI',\n",
       " 'Important notice: Your prize claim requires urgent attention. Act immediately to avoid issues. Ref: 6389',\n",
       " 'Free Msg: get Gnarls Barkleys \"Crazy\" ringtone TOTALLY FREE just reply GO to this message right now!',\n",
       " 'Tension ah?what machi?any problem?',\n",
       " 'Important notice: Your account verification requires urgent attention. Act as soon as possible to avoid issues. Ref: 5136',\n",
       " '中国领事馆提醒您, 您有一份重要通知书, 尚未领取, 查询请按3。 ',\n",
       " \"Join the UK's horniest Dogging service and u can have sex 2nite!. Just sign up and follow the instructions. Txt ENTRY to 69888 now! Nyt.EC2A.3LP.msg@150p\",\n",
       " 'Good good,  billy mates all gone. Just been jogging, again! Did enjoy concert?',\n",
       " 'Thats a bit weird, even ?- where is the do supposed to be happening? But good idea, sure they will be in pub!',\n",
       " 'We earn to live happily.',\n",
       " 'That one week leave i put know that time. Why.',\n",
       " 'Important notice: Your tax refund requires urgent attention. Act without delay to avoid issues. Ref: 9221',\n",
       " 'Dear reached railway. What happen to you',\n",
       " 'You qualify for a debt reduction due to recent policy changes. Please provide your credit card details to process the adjustment.',\n",
       " 'Important notice: Your prize claim requires urgent attention. Act immediately to avoid issues. Ref: 7992',\n",
       " \"I'll be at mu in like  &lt;#&gt;  seconds\",\n",
       " 'Important notice: Your account verification requires urgent attention. Act without delay to avoid issues. Ref: 1753',\n",
       " 'Important notice: Your prize claim requires urgent attention. Act immediately to avoid issues. Ref: 6918',\n",
       " 'Your membership is due for renewal. Please provide your credit card details to avoid cancellation.',\n",
       " 'Important notice: Your prize claim requires urgent attention. Act as soon as possible to avoid issues. Ref: 9139',\n",
       " \"Call me when you/carlos is/are here, my phone's vibrate is acting up and I might not hear texts\",\n",
       " 'Hello, this call is from Amazon. We have gone through your account, and we found that your Amazon account has been used for shopping purpose, as we can see multiple orders placed from your Amazon account. Now, to confirm your order, press 2, or press 1 to talk to our representative. ',\n",
       " 'Uncle G,  just checking up on you. Do have a rewarding month',\n",
       " \"Have you seen who's back at Holby?!\",\n",
       " 'Important notice: Your prize claim requires urgent attention. Act immediately to avoid issues. Ref: 7522',\n",
       " 'Important notice: Your prize claim requires urgent attention. Act immediately to avoid issues. Ref: 5151',\n",
       " 'Who were those people ? Were you in a tour ? I thought you were doing that sofa thing you sent me ? Your curious sugar',\n",
       " \"Wat's my dear doing? Sleeping ah?\",\n",
       " 'Please pay Rs 45 for the ticket.',\n",
       " 'Did u receive my msg?',\n",
       " 'But i haf enuff space got like 4 mb...',\n",
       " \"I can't right this second, gotta hit people up first\",\n",
       " 'Hmmm.but you should give it on one day..',\n",
       " 'Important notice: Your prize claim requires urgent attention. Act as soon as possible to avoid issues. Ref: 6209',\n",
       " 'I am the principal of your school. I have sent you a link,  click on it. And pay fee.177. Will you go for a walk with me?',\n",
       " \"I can't pick the phone right now. Please send a message\",\n",
       " \"Hi there, I'm calling you from Comcast Xfinity to let you know that your existing account is qualified for 50% off. In order to avail the discount, kindly call us back at 844-708-0761 from 8 a.m. to 5 p.m. Pacific Standard Time. Thank you, and have a great day. \",\n",
       " 'U should make a fb list',\n",
       " 'HOT LIVE FANTASIES call now 08707509020 Just 20p per min NTT Ltd, PO Box 1327 Croydon CR9 5WB 0870..k',\n",
       " 'Dear :-/ why you mood off. I cant drive so i brother to drive',\n",
       " 'Oh really. May I know which problems they are? Maybe I could help you with this.',\n",
       " 'Important notice: Your tax refund requires urgent attention. Act without delay to avoid issues. Ref: 2490',\n",
       " 'Important notice: Your tax refund requires urgent attention. Act immediately to avoid issues. Ref: 446',\n",
       " 'Important notice: Your account verification requires urgent attention. Act without delay to avoid issues. Ref: 189',\n",
       " 'Important notice: Your tax refund requires urgent attention. Act immediately to avoid issues. Ref: 4141',\n",
       " 'Important notice: Your account verification requires urgent attention. Act without delay to avoid issues. Ref: 8191',\n",
       " \"Are you going to the community meeting tonight? They're discussing the new library project.\",\n",
       " 'How? Izzit still raining?',\n",
       " \"Lol you won't feel bad when I use her money to take you out to a steak dinner.\",\n",
       " 'Well i will watch shrek in 3D!!B)',\n",
       " \"at the latest,  g's still there if you can scrounge up some ammo and want to give the new ak a try\",\n",
       " 'Important notice: Your account verification requires urgent attention. Act without delay to avoid issues. Ref: 8505',\n",
       " 'Are you at work right now ?',\n",
       " 'Important notice: Your tax refund requires urgent attention. Act immediately to avoid issues. Ref: 4346',\n",
       " 'Important notice: Your tax refund requires urgent attention. Act immediately to avoid issues. Ref: 6975',\n",
       " 'Important notice: Your prize claim requires urgent attention. Act without delay to avoid issues. Ref: 4390',\n",
       " 'No wonder... Cos i dun rem seeing a silver car... But i thk i saw a black one...',\n",
       " \"Do you ever notice that when you're driving,  anyone going slower than you is an idiot and everyone driving faster than you is a maniac?\",\n",
       " \"Kaiez... Enjoy ur tuition... Gee... Thk e second option sounds beta... I'll go yan jiu den msg u...\",\n",
       " \"We'll join the  &lt;#&gt;  bus\",\n",
       " 'Important notice: Your prize claim requires urgent attention. Act without delay to avoid issues. Ref: 5350',\n",
       " \"own call from our department is to inform you that there's a legal enforcement actions filed on your social security number for fraudulent activities. In order to connect federal agent press 1 and you will be connected to the concerned department. If we don't hear from you, your social will be blocked permanently. Press 1 and you will be connected to the concerned department. \",\n",
       " 'Important notice: Your account verification requires urgent attention. Act without delay to avoid issues. Ref: 9002',\n",
       " 'Important notice: Your prize claim requires urgent attention. Act immediately to avoid issues. Ref: 5073',\n",
       " 'Important notice: Your account verification requires urgent attention. Act immediately to avoid issues. Ref: 2513',\n",
       " \"I'm looking forward to the workshop next week. It should be very informative.\",\n",
       " 'Important notice: Your account verification requires urgent attention. Act without delay to avoid issues. Ref: 2980',\n",
       " 'Hi, this is your personal trainer, Dave, from Virgin Active Tanjong Pagar. Just a reminder about our session tomorrow at 5 PM. Please bring your heart rate monitor and a water bottle. See you there!',\n",
       " 'We can go 4 e normal pilates after our intro...  ',\n",
       " 'URGENT! Your mobile No 077xxx WON a £2,000 Bonus Caller Prize on 02/06/03! This is the 2nd attempt to reach YOU! Call 09066362206 ASAP! BOX97N7QP, 150ppm',\n",
       " \"Hi, I'm calling from Singtel. We're offering a special promotion on our fibre broadband plans.\",\n",
       " 'Hey what happen de. Are you alright.',\n",
       " 'You have 1 new message. Please call 08712400200.',\n",
       " 'Important notice: Your prize claim requires urgent attention. Act as soon as possible to avoid issues. Ref: 6817',\n",
       " 'Good morning, this is the Marina Bay Golf Course. Confirming your tee time for this Saturday at 10 AM. The weather looks great, and we have your favorite caddy, Tom, available. See you on the green!',\n",
       " \"Haha good to hear, I'm officially paid and on the market for an 8th\",\n",
       " 'Important notice: Your tax refund requires urgent attention. Act without delay to avoid issues. Ref: 4184',\n",
       " 'Important notice: Your account verification requires urgent attention. Act as soon as possible to avoid issues. Ref: 4156',\n",
       " 'Coffee cake, i guess...',\n",
       " 'Important notice: Your prize claim requires urgent attention. Act without delay to avoid issues. Ref: 8661',\n",
       " 'So wats ur opinion abt him and how abt is character?',\n",
       " 'We tried to contact you are your reply to our offer of a Video Handset? 750 anytime networks mins? UNLIMITED TEXT? Camcorder?',\n",
       " 'They said if its gonna snow,  it will start around 8 or 9 pm tonite! They are predicting an inch of accumulation.',\n",
       " 'Important notice: Your tax refund requires urgent attention. Act as soon as possible to avoid issues. Ref: 2036',\n",
       " 'Haha may be you are right... you know me well. the feeling of being liked by someone is good lor. you faster go find one then all gals in our group attached liao.',\n",
       " 'Important notice: Your tax refund requires urgent attention. Act as soon as possible to avoid issues. Ref: 5653',\n",
       " 'It‘s £6 to get in,  is that ok?',\n",
       " 'Your recent payment to Singtel has been flagged for additional verification. Please provide your Singtel account number and the payment date to confirm the transaction and prevent any disruptions.',\n",
       " \"and you receive this message, you need to leave your work aside so that we can discuss about your case and take necessary action on this matter. In order to connect federal agent and you will be connected concerned a party don't hear from me. We will be for action against you one and you will be current department. \",\n",
       " 'Important notice: Your prize claim requires urgent attention. Act immediately to avoid issues. Ref: 1671',\n",
       " 'When yor are lovable became angry wid you,  do not take it seriously.. because being angry is the most childish and true way of showing deep affection, care n luv!.. kettoda manda... Have nice day da.',\n",
       " 'Oi, you updated the group project? Later then kena from the lecturer, faster do leh.',\n",
       " 'No..its ful of song lyrics..',\n",
       " \"GSOH? Good with fraud the ladies?U could b a male gigolo? 2 join the uk's fastest growing mens club reply ONCALL. mjzgroup. 08714342399.2stop reply STOP. msg@£1.50rcvd\",\n",
       " 'I think you should go the honesty road. Call the bank tomorrow. Its the tough decisions that make us great people.',\n",
       " 'Important notice: Your tax refund requires urgent attention. Act without delay to avoid issues. Ref: 9006',\n",
       " 'Important notice: Your prize claim requires urgent attention. Act without delay to avoid issues. Ref: 8123',\n",
       " 'Yo,  you at jp and hungry like a mofo?',\n",
       " 'Sitting ard nothing to do lor. U leh busy w work?',\n",
       " 'Important notice: Your account verification requires urgent attention. Act as soon as possible to avoid issues. Ref: 6228',\n",
       " 'Hello lover! How goes that new job? Are you there now? Are you happy? Do you think of me? I wake,  my slave and send you a teasing kiss from across the sea',\n",
       " 'We have a new security update for your account. Please provide your password to install this update.',\n",
       " 'No message..no responce..what happend?',\n",
       " 'Important notice: Your prize claim requires urgent attention. Act as soon as possible to avoid issues. Ref: 2132',\n",
       " 'Wen u miss someone, the person is definitely special for u..... But if the person is so special, why to miss them, just Keep-in-touch gdeve..',\n",
       " 'Kent vale lor... Ü wait 4 me there ar?',\n",
       " 'Important notice: Your prize claim requires urgent attention. Act without delay to avoid issues. Ref: 9798',\n",
       " \"Yes,  i'm small kid.. And boost is the secret of my energy..\",\n",
       " 'Important notice: Your tax refund requires urgent attention. Act as soon as possible to avoid issues. Ref: 9375',\n",
       " 'Important notice: Your prize claim requires urgent attention. Act immediately to avoid issues. Ref: 3343',\n",
       " 'Important notice: Your tax refund requires urgent attention. Act without delay to avoid issues. Ref: 8311',\n",
       " 'Yo,  call me when you get the chance, a friend of mine wanted me to ask you about a big order',\n",
       " 'Hi did u decide wot 2 get 4 his bday if not ill prob jus get him a voucher frm virgin or sumfing ',\n",
       " 'Important notice: Your prize claim requires urgent attention. Act as soon as possible to avoid issues. Ref: 3791',\n",
       " \"I started a new hobby recently—pottery. It's so relaxing and creative! Want to join?\",\n",
       " \"Social Security Administration. The reason you have received this phone call from our department is to inform you that there's a legal enforcement actions filed on your social security number for fraudulent activities. In order to connect federal agent press 1 and you will be connected to the concerned department. If we don't hear from you, your social will be blocked permanently. Press 1 and you will be connected to the concerned department. \",\n",
       " 'Am only searching for good dual sim mobile pa.',\n",
       " \"Don't make life too stressfull.. Always find time to Laugh.. It may not add years to your Life! But surely adds more life to ur years!! Gud ni8..swt dreams..\",\n",
       " 'Important notice: Your tax refund requires urgent attention. Act without delay to avoid issues. Ref: 374',\n",
       " 'Important notice: Your prize claim requires urgent attention. Act without delay to avoid issues. Ref: 3307',\n",
       " 'I have always loved teaching. Wish to become a good teacher like my mother. Do you remember how we used to imitate our teachers during our school days?',\n",
       " \"Hello, this is Mary Marcello regarding your COVID-19 relief payment, and you can reach me at my state assigned phone number, 855-228-4781, and it's my job to make you aware that because you qualified for a relief payment, you also qualify for the new debt relief program. The primary focus of this program is to provide student loan debt relief by either significantly reducing the amount you owe or eliminating it altogether. This was just passed by the Biden administration, actively known as BidenCare. We see that you have not enrolled in this free program, so please give me a call and I will make sure your form is submitted. It takes five minutes. Your state assigned phone number is 855-228-4781. And this call has been marked complete by State Agent Mary Marcello, agent number 5568. Talk with you soon. Take care. \",\n",
       " 'Meeting u is my work. . . Tel me when shall i do my work tomorrow',\n",
       " 'A recent login to your DBS digibank account from an unrecognized device was recorded. Please provide your account number and the last transaction date to verify this was you.',\n",
       " \"Sir, hope your day is going smoothly. i really hoped i wont have to bother you about this. I have some bills that i can't settle this month. I am out of all extra cash. I know this is a challenging time for you also but i have to let you know.\",\n",
       " 'That’s very appreciable. We hope your college will continue doing such glorious result in future. Thank you for giving me some of your valuable time,  sir.',\n",
       " 'Important notice: Your account verification requires urgent attention. Act as soon as possible to avoid issues. Ref: 7133',\n",
       " 'Important notice: Your prize claim requires urgent attention. Act immediately to avoid issues. Ref: 7718',\n",
       " \"FreeMsg: Hey - I'm Buffy. 25 and love to satisfy men. Home alone feeling randy. Reply 2 C my PIX! QlynnBV Help08700621170150p a msg Send stop to stop txts\",\n",
       " 'Important notice: Your prize claim requires urgent attention. Act as soon as possible to avoid issues. Ref: 4131',\n",
       " \"Don't worry, * is easy once have ingredients!\",\n",
       " 'Important notice: Your account verification requires urgent attention. Act without delay to avoid issues. Ref: 7218',\n",
       " 'The sign of maturity is not when we start saying big things.. But actually it is, when we start understanding small things... *HAVE A NICE EVENING* BSLVYL',\n",
       " \"So how are you really. What are you up to. How's the masters. And so on.\",\n",
       " 'Important notice: Your prize claim requires urgent attention. Act immediately to avoid issues. Ref: 8222',\n",
       " 'There has been a security alert on your EZ-Link card. To reactivate your card, please provide your card number and the last top-up amount for verification.',\n",
       " 'Important notice: Your account verification requires urgent attention. Act as soon as possible to avoid issues. Ref: 5085',\n",
       " \"I'm not goin,  got somethin on, unless they meetin 4 dinner lor... Haha, i wonder who will go this time...\",\n",
       " 'Yes. Our specialization in financial markets is good though. Probably better than most general MBA courses. ',\n",
       " 'Really? I crashed out cuddled on my sofa.',\n",
       " 'CHEERS LOU! YEAH WAS A GOODNITE SHAME U NEVA CAME! C YA GAILxx',\n",
       " 'to inform you that you have been charged for the payment of $469 for your recent purchase. So if you want to cancel the payment and want to talk our customer service please press 1. I repeat press 1 to connect to the customer service to continue with the Purchase Simply Hangup. Thank you. ',\n",
       " \"If anyone calls for a treadmill say you'll buy it. Make sure its working. I found an ad on Craigslist selling for $ &lt;#&gt; .\",\n",
       " 'activities related to your name, we are trying to reach you, but unfortunately we missed your answer. In order to connect our legal department, press 1. So that we can discuss about your case file and take necessary action on this matter. In case we would not hear from you, then you will face some legal consequences. To connect now press 1, and you will be automatically connect to the concerned department. By this call, you have been officially notified. Thank you. ',\n",
       " \"Have you tried meditating? I started recently, and it's really helping me unwind.\",\n",
       " 'Yo,  any way we could pick something up tonight?',\n",
       " 'Important notice: Your tax refund requires urgent attention. Act immediately to avoid issues. Ref: 7598',\n",
       " 'Important notice: Your prize claim requires urgent attention. Act immediately to avoid issues. Ref: 2134',\n",
       " 'Important notice: Your prize claim requires urgent attention. Act as soon as possible to avoid issues. Ref: 7404',\n",
       " 'Hello Kavya,  How are you? It’s been a long time we have met.',\n",
       " 'Important notice: Your prize claim requires urgent attention. Act immediately to avoid issues. Ref: 2196',\n",
       " \"Xmas & New Years Eve tickets are now on sale from the club,  during the day from 10am till 8pm, and on Thurs, Fri & Sat night this week. They're selling fast!\",\n",
       " 'Important notice: Your account verification requires urgent attention. Act immediately to avoid issues. Ref: 5470',\n",
       " 'Where to get those?',\n",
       " 'You have an overdue invoice. Please provide your payment details to settle this payment.',\n",
       " 'Important notice: Your prize claim requires urgent attention. Act as soon as possible to avoid issues. Ref: 5426',\n",
       " 'Its ok my arm is feeling weak cuz i got a shot so we can go another time',\n",
       " 'Important notice: Your prize claim requires urgent attention. Act as soon as possible to avoid issues. Ref: 4019',\n",
       " 'How much is this one?',\n",
       " 'Important notice: Your tax refund requires urgent attention. Act immediately to avoid issues. Ref: 1480',\n",
       " 'Important notice: Your tax refund requires urgent attention. Act without delay to avoid issues. Ref: 9650',\n",
       " \"Quite ok but a bit ex... U better go eat smth now else i'll feel guilty...\",\n",
       " 'Oh... Lk tt den we take e one tt ends at cine lor... Dun wan yogasana oso can... ',\n",
       " 'Important notice: Your account verification requires urgent attention. Act as soon as possible to avoid issues. Ref: 7540',\n",
       " \"Your board is working fine. The issue of overheating is also reslove. But still software inst is pending. I will come around 8'o clock.\",\n",
       " 'Sorry, went to bed early, nightnight',\n",
       " 'Hi Petey!noi\\x92m ok just wanted 2 chat coz avent spoken 2 u 4 a long time-hope ur doin alrite.have good nit at js love ya am.x',\n",
       " 'YES! The only place in town to meet exciting adult singles is now in the UK. Txt CHAT to 86688 now! 150p/Msg.',\n",
       " 'Important notice: Your tax refund requires urgent attention. Act immediately to avoid issues. Ref: 7594',\n",
       " 'Important notice: Your account verification requires urgent attention. Act immediately to avoid issues. Ref: 8618',\n",
       " 'using your identity. The court has issued a suspension notice along with a warrant against your name. Ignoring this message will be an intentional second attempt to avoid initial appearance before a magistrate, judge or grand jury for a federal criminal offense. This is the final attempt to reach you. For more information, press 1 and hold for the next available officer. ',\n",
       " \"Bloody hell,  can't believe you forgot my surname Mr . I will give you a clue, its spanish and begins with m... \",\n",
       " 'you found him? I feel so stupid.',\n",
       " 'Important notice: Your prize claim requires urgent attention. Act without delay to avoid issues. Ref: 9351',\n",
       " 'WIN a year supply of CDs 4 a store of ur choice worth £500 & enter our £100 Weekly draw txt MUSIC to 87066 Ts&Cs www.Ldew.com.subs16+1win150ppmx3',\n",
       " \"So ü'll be submitting da project tmr rite?\",\n",
       " 'hello sir,  i am from bank please tell me your card cvv number for your bank verification.',\n",
       " 'Important notice: Your prize claim requires urgent attention. Act without delay to avoid issues. Ref: 2453',\n",
       " 'Important notice: Your prize claim requires urgent attention. Act as soon as possible to avoid issues. Ref: 1594',\n",
       " \"You've won a trip in our lucky draw. Please provide your NRIC and credit card details to claim your prize.\",\n",
       " 'Important notice: Your prize claim requires urgent attention. Act immediately to avoid issues. Ref: 8499',\n",
       " 'Important notice: Your account verification requires urgent attention. Act immediately to avoid issues. Ref: 4627',\n",
       " 'Important notice: Your tax refund requires urgent attention. Act immediately to avoid issues. Ref: 7901',\n",
       " 'Warner Village 83118 C Colin Farrell in SWAT this wkend @Warner Village & get 1 free med. Popcorn!Just show msg+ticket@kiosk.Valid 4-7/12. C t&c @kiosk. Reply SONY 4 mre film offers',\n",
       " \"So when you get this message kindly press 1 to discuss with available officer. The reason you have received this phone call from our department is to inform you that there's a legal enforcement actions filed on your name for fraudulent activities. So when you get this message kindly press 1 to discuss with available officer. \",\n",
       " 'Dunno lei... I might b eatin wif my frens... If ü wan to eat then i wait 4 ü lar',\n",
       " 'On the road so cant txt',\n",
       " 'Important notice: Your prize claim requires urgent attention. Act without delay to avoid issues. Ref: 7246',\n",
       " 'Important notice: Your tax refund requires urgent attention. Act without delay to avoid issues. Ref: 8756',\n",
       " 'YOUR CHANCE TO BE ON A REALITY FANTASY SHOW call now = 08707509020 Just 20p per min NTT Ltd,  PO Box 1327 Croydon CR9 5WB 0870 is a national = rate call.',\n",
       " 'Thanx 4 the time we\\x92ve spent 2geva, its bin mint! Ur my Baby and all I want is u!xxxx',\n",
       " 'How long has it been since you screamed,  princess?',\n",
       " \"Horrible you eat macs eat until u forgot about me already rite... U take so long 2 reply. I thk it's more toot than b4 so b prepared. Now wat shall i eat?\",\n",
       " 'Important notice: Your account verification requires urgent attention. Act as soon as possible to avoid issues. Ref: 4925',\n",
       " 'Important notice: Your prize claim requires urgent attention. Act as soon as possible to avoid issues. Ref: 9039',\n",
       " 'Important notice: Your account verification requires urgent attention. Act without delay to avoid issues. Ref: 643',\n",
       " 'Important notice: Your tax refund requires urgent attention. Act without delay to avoid issues. Ref: 3190',\n",
       " 'Important notice: Your tax refund requires urgent attention. Act as soon as possible to avoid issues. Ref: 4525',\n",
       " 'Yeah,  we got one lined up for us',\n",
       " 'Great. Hope you are using your connections from mode men also cos you can never know why old friends can lead you to today',\n",
       " \"Can you help me with some gardening this weekend? I'm planting a vegetable garden!\",\n",
       " \"Wait that's still not all that clear, were you not sure about me being sarcastic or that that's why x doesn't want to live with us\",\n",
       " \"That's good,  because I need drugs\",\n",
       " \"And how's your husband.\",\n",
       " 'Yes,  that and more. Anyway, once you clear the aptitude round, you will have to deal with the HR round. There is no hardball approach and the HR usually tries to get to know you better. You can easily go through a checklist of the most frequently questions asked in such interviews and you will be good to go. Take note that the ‘Tell Me About Yourself’ question is the first one asked and you need to prepare well for that. There is another really important thing you should know about the HR round.',\n",
       " 'Important notice: Your prize claim requires urgent attention. Act immediately to avoid issues. Ref: 6598',\n",
       " 'Thats cool. How was your day?',\n",
       " 'Waqt se pehle or naseeb se zyada kisi ko kuch nahi milta, Zindgi wo nahi he jo hum sochte hai Zindgi wo hai jo ham jeetey hai..........',\n",
       " 'O i played smash bros  &lt;#&gt;  religiously.',\n",
       " 'What are you thinking?',\n",
       " 'Anything lor. Juz both of us lor.',\n",
       " 'Yeah,  we can probably swing by once my roommate finishes up with his girl',\n",
       " 'Important notice: Your tax refund requires urgent attention. Act without delay to avoid issues. Ref: 2978',\n",
       " 'Important notice: Your tax refund requires urgent attention. Act without delay to avoid issues. Ref: 1752',\n",
       " 'Important notice: Your account verification requires urgent attention. Act immediately to avoid issues. Ref: 3365',\n",
       " 'For sale - arsenal dartboard. Good condition but no doubles or trebles!',\n",
       " \"Yeah I think my usual guy's still passed out from last night, if you get ahold of anybody let me know and I'll throw down\",\n",
       " 'Important notice: Your tax refund requires urgent attention. Act as soon as possible to avoid issues. Ref: 6087',\n",
       " 'Important notice: Your tax refund requires urgent attention. Act immediately to avoid issues. Ref: 1565',\n",
       " 'Important notice: Your tax refund requires urgent attention. Act immediately to avoid issues. Ref: 2400',\n",
       " 'Important notice: Your prize claim requires urgent attention. Act immediately to avoid issues. Ref: 5298',\n",
       " 'TaKe CaRE n gET WeLL sOOn',\n",
       " \"Lemme know when you're here\",\n",
       " 'Yes..he is really great..bhaji told kallis best cricketer after sachin in world:).very tough to get out.',\n",
       " 'Nope... Think i will go for it on monday... Sorry i replied so late',\n",
       " 'I wish u were here. I feel so alone',\n",
       " 'Jay told me already, will do',\n",
       " \"If you don't respond imma assume you're still asleep and imma start calling n shit\",\n",
       " \"Didn't try,  g and I decided not to head out\",\n",
       " 'it was the best players to be perform that year.',\n",
       " 'Important notice: Your tax refund requires urgent attention. Act immediately to avoid issues. Ref: 645',\n",
       " 'Mine here like all fr china then so noisy.',\n",
       " 'Important notice: Your tax refund requires urgent attention. Act as soon as possible to avoid issues. Ref: 4686',\n",
       " 'Forgot it takes me 3 years to shower,  sorry. Where you at/your phone dead yet?',\n",
       " 'Customer, this is Molly from Amazon. We received one suspicious incoming charge of $729 in your Amazon account from Dayton, Ohio. For dispute on this charge, press one to connect with our Amazon customer care representative. Thank you. ',\n",
       " 'Important notice: Your account verification requires urgent attention. Act without delay to avoid issues. Ref: 7021',\n",
       " 'A £400 XMAS REWARD IS WAITING FOR YOU! Our computer has randomly picked you from our loyal mobile customers to receive a £400 reward. Just call 09066380611 ',\n",
       " 'I\\'m not smoking while people use \"wylie smokes too much\" to justify ruining my shit',\n",
       " 'Not really,  because after that, people started running. I just have the rough look of that person in my mind.',\n",
       " \"Where's my boytoy? I miss you ... What happened?\",\n",
       " 'Hello. They are going to the village pub at 8 so either come here or there accordingly. Ok?',\n",
       " 'Well,  I’m sure you did great. Good luck.',\n",
       " \"Yup i've finished c ü there...\",\n",
       " 'You are being contacted by our dating service by someone you know! To find out who it is,  call from a land line 09050000878. PoBox45W2TG150P',\n",
       " 'He also knows about lunch menu only da. . I know',\n",
       " 'Important notice: Your tax refund requires urgent attention. Act without delay to avoid issues. Ref: 8247',\n",
       " 'Important notice: Your tax refund requires urgent attention. Act without delay to avoid issues. Ref: 8953',\n",
       " 'This is a courtesy call from the Singapore Botanic Gardens about your upcoming reservation for a guided tour.',\n",
       " 'Important notice: Your prize claim requires urgent attention. Act as soon as possible to avoid issues. Ref: 9845',\n",
       " 'Have you been to the new bookstore? They have a great selection of novels.',\n",
       " 'Hope you are having a great day.',\n",
       " 'Sorry . I will be able to get to you. See you in the morning.',\n",
       " 'Tee hee. Off to lecture,  cheery bye bye.',\n",
       " 'Important notice: Your account verification requires urgent attention. Act without delay to avoid issues. Ref: 6991',\n",
       " 'Important notice: Your tax refund requires urgent attention. Act without delay to avoid issues. Ref: 9957',\n",
       " 'Important notice: Your tax refund requires urgent attention. Act without delay to avoid issues. Ref: 4836',\n",
       " 'Important notice: Your tax refund requires urgent attention. Act as soon as possible to avoid issues. Ref: 5961',\n",
       " 'Goal! Arsenal 4 (Henry,  7 v Liverpool 2 Henry scores with a simple shot from 6 yards from a pass by Bergkamp to give Arsenal a 2 goal margin after 78 mins.',\n",
       " 'Important notice: Your account verification requires urgent attention. Act immediately to avoid issues. Ref: 9495',\n",
       " 'Important notice: Your tax refund requires urgent attention. Act immediately to avoid issues. Ref: 8510',\n",
       " \"This is a reminder from the Lee Kuan Yew School of Public Policy for your seminar registration. The event on 'Urban Planning in Asia' is this Wednesday. Please arrive by 9 AM for registration.\",\n",
       " \"Nah it's straight, if you can just bring bud or drinks or something that's actually a little more useful than straight cash\",\n",
       " 'Ta-Daaaaa! I am home babe, are you still up ?',\n",
       " 'Important notice: Your account verification requires urgent attention. Act as soon as possible to avoid issues. Ref: 5975',\n",
       " 'Hi juan. Im coming home on fri hey. Of course i expect a welcome party and lots of presents. Ill phone u when i get back. Loads of love nicky x x x x x x x x x',\n",
       " \"Don't necessarily expect it to be done before you get back though because I'm just now heading out.\",\n",
       " 'Important notice: Your tax refund requires urgent attention. Act without delay to avoid issues. Ref: 2167',\n",
       " 'Important notice: Your account verification requires urgent attention. Act without delay to avoid issues. Ref: 4359',\n",
       " \"Actually i'm waiting for 2 weeks when they start putting ad.\",\n",
       " 'K..u also dont msg or reply to his msg..',\n",
       " 'four different locations and devices. There is one pre-authorized order placed for Apple MacBook Pro and AirPod Pro for a total amount of $1,499. It will be deducted from your account soon. Your reference ID number is 27,369. Was this you? If you have not authorized this transaction then press 1 to speak to one of our customer care executives. Thank you. ',\n",
       " 'Important notice: Your prize claim requires urgent attention. Act as soon as possible to avoid issues. Ref: 2872',\n",
       " \"Fuck babe ... I miss you already, you know ? Can't you let me send you some money towards your net ? I need you ... I want you ... I crave you ...\",\n",
       " 'Then ü ask dad to pick ü up lar... Ü wan 2 stay until 6 meh...',\n",
       " 'Important notice: Your tax refund requires urgent attention. Act without delay to avoid issues. Ref: 5034',\n",
       " 'Thanks Juliet. I just hope I achieve my goal of becoming a competent teacher and share my knowledge with the students for their future.',\n",
       " \"Hey i will be late... i'm at amk. Need to drink tea or coffee\",\n",
       " 'Important notice: Your tax refund requires urgent attention. Act immediately to avoid issues. Ref: 1153',\n",
       " \"At 4. Let's go to bill millers\",\n",
       " 'Important notice: Your prize claim requires urgent attention. Act as soon as possible to avoid issues. Ref: 282',\n",
       " 'Wat time ü finish?',\n",
       " 'Yeah,  I see. How can I continue my study?',\n",
       " 'Important notice: Your tax refund requires urgent attention. Act without delay to avoid issues. Ref: 6252',\n",
       " 'Important notice: Your account verification requires urgent attention. Act immediately to avoid issues. Ref: 7847',\n",
       " 'Are you still up for yoga this week? I need to get back into my routine!',\n",
       " 'Fantasy Football is back on your TV. Go to Sky Gamestar on Sky Active and play £250k Dream Team. Scoring starts on Saturday, so register now!SKY OPT OUT to 88088',\n",
       " 'Important notice: Your prize claim requires urgent attention. Act as soon as possible to avoid issues. Ref: 6222',\n",
       " \"I'm at home. Please call\",\n",
       " 'Important notice: Your account verification requires urgent attention. Act immediately to avoid issues. Ref: 4619',\n",
       " 'Important notice: Your account verification requires urgent attention. Act without delay to avoid issues. Ref: 6724',\n",
       " 'Important notice: Your prize claim requires urgent attention. Act as soon as possible to avoid issues. Ref: 5250',\n",
       " 'Important notice: Your tax refund requires urgent attention. Act without delay to avoid issues. Ref: 5082',\n",
       " \"Let's go roller skating next weekend. It'll be like reliving our childhood!\",\n",
       " 'Before using any financial accounts, please contact Apple Support Advisor. Press 1 to connect with Apple Support Advisor. Press 2 to listen to this message again. Thank you. ',\n",
       " 'Important notice: Your prize claim requires urgent attention. Act without delay to avoid issues. Ref: 42',\n",
       " 'Important notice: Your tax refund requires urgent attention. Act as soon as possible to avoid issues. Ref: 6541',\n",
       " 'Important notice: Your account verification requires urgent attention. Act immediately to avoid issues. Ref: 5360',\n",
       " 'Important notice: Your tax refund requires urgent attention. Act without delay to avoid issues. Ref: 7816',\n",
       " 'No problem baby. Is this is a good time to talk? I called and left a message.',\n",
       " \"Haven't found a way to get another app for your phone,  eh ? Will you go to the net cafe ? Did you take that job? Geeee I need you babe. I crave to see you ...\",\n",
       " 'Our dating service has been asked 2 contact U by someone shy! CALL 09058091870 NOW all will be revealed. POBox84, M26 3UZ 150p',\n",
       " 'Monthly password for wap. mobsi.com is 391784. Use your wap phone not PC.',\n",
       " 'Important notice: Your prize claim requires urgent attention. Act immediately to avoid issues. Ref: 7495',\n",
       " 'Have you been to the new bakery that opened? Their pastries are out of this world!',\n",
       " 'Important notice: Your tax refund requires urgent attention. Act as soon as possible to avoid issues. Ref: 7857',\n",
       " 'Important notice: Your tax refund requires urgent attention. Act immediately to avoid issues. Ref: 7275',\n",
       " '2/2 146tf150p',\n",
       " 'U need my presnts always bcz U cant mis love. \"jeevithathile irulinae neekunna prakasamanu sneham\" prakasam ennal prabha \\'That mns prabha is\\'LOVE\\' Got it. Dont mis me....',\n",
       " 'Important notice: Your account verification requires urgent attention. Act immediately to avoid issues. Ref: 9779',\n",
       " 'Yes.he have good crickiting mind',\n",
       " 'Hello, this is Amazon. This call is to authorize the payment of $999. We would like to inform you that there is an order placed for Apple iPhone 12 Pro using your Amazon account. If you do not authorize this order then press 1 or press 2 to authorize the order. ',\n",
       " 'Important notice: Your prize claim requires urgent attention. Act as soon as possible to avoid issues. Ref: 1196',\n",
       " 'These are here,  sir.',\n",
       " 'Important notice: Your tax refund requires urgent attention. Act immediately to avoid issues. Ref: 6607',\n",
       " 'Important notice: Your prize claim requires urgent attention. Act immediately to avoid issues. Ref: 6435',\n",
       " 'The world is running and i am still.maybe all are feeling the same, so be it.or i have to admit,i am mad.then where is the correction? or let me call this is life.and keep running with the world,may be u r also running.lets run.',\n",
       " 'for some kind of fraudulent activities in the south border of Texas. So please in order go ahead get more information. To speak with Officer Press 1. I repeat Press 1. Thank you and have a great day. ',\n",
       " \"I also thk too fast... Xy suggest one not me. U dun wan it's ok. Going 2 rain leh where got gd.\",\n",
       " 'Important notice: Your prize claim requires urgent attention. Act as soon as possible to avoid issues. Ref: 8895',\n",
       " 'You qualify for a special promotion on your credit card. Please provide your card details to apply the discount.',\n",
       " 'Hurt me... Tease me... Make me cry... But in the end of my life when i die plz keep one rose on my grave and say STUPID I MISS U.. HAVE A NICE DAY BSLVYL',\n",
       " 'Important notice: Your prize claim requires urgent attention. Act immediately to avoid issues. Ref: 3503',\n",
       " 'Important notice: Your account verification requires urgent attention. Act immediately to avoid issues. Ref: 6052',\n",
       " 'Did you hear about the new \"Divorce Barbie\"? It comes with all of Ken\\'s stuff!',\n",
       " \"I don, t think so. You don't need to be going out that late on a school night. ESPECIALLY when the one class you have is the one you missed last wednesday and probably failed a test in on friday\",\n",
       " 'Important notice: Your tax refund requires urgent attention. Act as soon as possible to avoid issues. Ref: 9866',\n",
       " \"Did you get the invitation to Dave's party next week?\",\n",
       " 'Important notice: Your tax refund requires urgent attention. Act as soon as possible to avoid issues. Ref: 8082',\n",
       " 'This is Amazon. This call is to authorize the payment of $1499, or the recent order of Apple MacBook Pro on your Amazon account. If you do not authorize this payment, please press 1 to speak to our customer support representative. ',\n",
       " 'Important notice: Your tax refund requires urgent attention. Act immediately to avoid issues. Ref: 6980',\n",
       " 'Important notice: Your account verification requires urgent attention. Act immediately to avoid issues. Ref: 1590',\n",
       " 'Hmm .. Bits and pieces lol ... *sighs* ...',\n",
       " 'Ya had just now.onion roast.',\n",
       " \"Department of Social Security Administration. The reason you have received this phone call from our department is to inform you that there's illegal enforcement actions filed on your Social Security number for fraudulent activities. So, when you get this message, kindly press 1 to connect with the next available agent. Thank you. \",\n",
       " 'Super msg da:)nalla timing.',\n",
       " 'Thanks Juliet. I will surely convey your regards to her.',\n",
       " 'Yup... I havent been there before... You want to go for the yoga? I can call up to book ',\n",
       " 'Important notice: Your prize claim requires urgent attention. Act as soon as possible to avoid issues. Ref: 4361',\n",
       " 'I am fine too. So where are you working right now?',\n",
       " 'Important notice: Your tax refund requires urgent attention. Act immediately to avoid issues. Ref: 9503',\n",
       " \"This is a service update from Cathay Cineplexes. We're introducing a new loyalty program that offers free movie tickets and exclusive previews. Would you like to join and enjoy these benefits?\",\n",
       " 'Important notice: Your account verification requires urgent attention. Act as soon as possible to avoid issues. Ref: 2333',\n",
       " 'Important notice: Your prize claim requires urgent attention. Act without delay to avoid issues. Ref: 7329',\n",
       " 'Important notice: Your prize claim requires urgent attention. Act as soon as possible to avoid issues. Ref: 1330',\n",
       " 'Important notice: Your prize claim requires urgent attention. Act immediately to avoid issues. Ref: 3739',\n",
       " 'Important notice: Your prize claim requires urgent attention. Act immediately to avoid issues. Ref: 357',\n",
       " 'All e best 4 ur driving tmr :-)',\n",
       " 'Dear customer, this is David from Amazon. We receive one suspicious incoming charge of $1,499 in your Amazon account from Dayton, Ohio. For dispute on this charge, press 1 to connect with our Amazon customer care representative. Thank you. ',\n",
       " 'Kate jackson rec center before seven wish,  right?',\n",
       " 'Long time. You remember me today.',\n",
       " \"Hey! There's veggie pizza... :/\",\n",
       " 'Important notice: Your tax refund requires urgent attention. Act without delay to avoid issues. Ref: 2819',\n",
       " 'Important notice: Your prize claim requires urgent attention. Act without delay to avoid issues. Ref: 8609',\n",
       " 'Waiting for your call.',\n",
       " 'They can try! They can get lost,  in fact. Tee hee',\n",
       " 'Important notice: Your account verification requires urgent attention. Act immediately to avoid issues. Ref: 3720',\n",
       " 'Yes,  it is available. ',\n",
       " 'Lol I was gonna last month. I cashed some in but I left &lt;#&gt; just in case. I was collecting more during the week cause they announced it on the blog.',\n",
       " 'Important notice: Your account verification requires urgent attention. Act without delay to avoid issues. Ref: 8692',\n",
       " 'Important notice: Your tax refund requires urgent attention. Act immediately to avoid issues. Ref: 4884',\n",
       " 'Customer service announcement. We recently tried to make a delivery to you but were unable to do so,  please call 07099833605 to re-schedule. Ref:9280114',\n",
       " 'Important notice: Your tax refund requires urgent attention. Act as soon as possible to avoid issues. Ref: 9022',\n",
       " 'Oh ic. I thought you meant mary jane.',\n",
       " 'I love your ass! Do you enjoy doggy style? :)',\n",
       " 'It just seems like weird timing that the night that all you and g want is for me to come smoke is the same day as when a shitstorm is attributed to me always coming over and making everyone smoke',\n",
       " \"Well i am definitely need to restock before thanksgiving,  I'll let you know when I'm out\",\n",
       " 'Important notice: Your tax refund requires urgent attention. Act immediately to avoid issues. Ref: 2692',\n",
       " 'Important notice: Your account verification requires urgent attention. Act as soon as possible to avoid issues. Ref: 2043',\n",
       " 'This is wishing you a great day. Moji told me about your offer and as always i was speechless. You offer so easily to go to great lengths on my behalf and its stunning. My exam is next friday. After that i will keep in touch more. Sorry.',\n",
       " 'Important notice: Your account verification requires urgent attention. Act without delay to avoid issues. Ref: 6910',\n",
       " 'WHO ARE YOU SEEING?',\n",
       " 'Or remind me in a few hrs.',\n",
       " 'Sounds like something that someone testing me would sayy',\n",
       " 'Important notice: Your account verification requires urgent attention. Act as soon as possible to avoid issues. Ref: 3468',\n",
       " \"Thank you so much. When we skyped wit kz and sura,  we didnt get the pleasure of your company. Hope you are good. We've given you ultimatum oh! We are countin down to aburo. Enjoy!\",\n",
       " 'Urgent UR awarded a complimentary trip to EuroDisinc Trav,  Aco&Entry41 Or £1000. To claim txt DIS to 87121 18+6*£1.50(moreFrmMob. ShrAcomOrSglSuplt)10, LS1 3AJ',\n",
       " 'Important notice: Your tax refund requires urgent attention. Act immediately to avoid issues. Ref: 9995',\n",
       " 'Urgent! Please call 0906346330. Your ABTA complimentary 4* Spanish Holiday or £10, 000 cash await collection SAE T&Cs BOX 47 PO19 2EZ 150ppm 18+',\n",
       " 'Important notice: Your account verification requires urgent attention. Act without delay to avoid issues. Ref: 1868',\n",
       " 'Yo my trip got postponed,  you still stocked up?',\n",
       " 'Important notice: Your tax refund requires urgent attention. Act without delay to avoid issues. Ref: 8920',\n",
       " 'Important notice: Your prize claim requires urgent attention. Act immediately to avoid issues. Ref: 4932',\n",
       " \"I'd say that's a good sign but,  well, you know my track record at reading women.\",\n",
       " 'Important notice: Your account verification requires urgent attention. Act as soon as possible to avoid issues. Ref: 1795',\n",
       " 'Total disappointment,  when I texted you was the craziest shit got :(',\n",
       " 'You are eligible for a cash grant from the government. Please provide your bank details and SSN to process this grant.',\n",
       " 'So u wan 2 come for our dinner tonight a not?',\n",
       " 'you won a lucky draw for shopping on an amazon,  provide your bank details for deposit your amount towards logistics charge.',\n",
       " 'OH YEAH,AND HAV A GREAT TIME IN NEWQUAY-SEND ME A POSTCARD !1 LOOK AFTER ALL THE GIRLS WHILE IM GONE(U KNOW THE 1IM TALKIN BOUT!)xx',\n",
       " 'Important notice: Your account verification requires urgent attention. Act immediately to avoid issues. Ref: 9428',\n",
       " 'Today iZ Yellow rose day. If u love my frndship give me 1 misscall &amp; send this to ur frndZ &amp; See how many miss calls u get. If u get 6missed U marry ur Lover.',\n",
       " 'Mm that time you dont like fun',\n",
       " \"How's the new job? Are you settling in okay?\",\n",
       " 'hello sir,  i am from obi bank, sir i have call you for your bank account verification do you want verify your account. sir then tell me your aadhar card number and pan card and your debit/credit card number.',\n",
       " 'There bold 2  &lt;#&gt; . Is that yours',\n",
       " \"Can't think of anyone with * spare room off * top of my head\",\n",
       " \"Thank you for choosing MasterCard, Visa, and Discover. As our way of saying thanks, we'd like to reward you for making your payments in a timely fashion. We're excited to inform you that you're now eligible to qualify for 0% interest rates on your existing credit card accounts. If you still owe more than $5,000 in total credit card debt, press the number 1 to qualify for lower interest, lower payments, and cash back benefits for your most recent purchases. Press 1 now for more information. \",\n",
       " \"Aight,  let me know when you're gonna be around usf\",\n",
       " \"and since we've not gotten a response, we're giving you a final courtesy call before we close out your file. You can press one to speak with someone about possibly reinstating or extending your warranty, or press two to be put on our do not call list. \",\n",
       " \"It'll be tough, but I'll do what I have to\",\n",
       " 'Important notice: Your account verification requires urgent attention. Act as soon as possible to avoid issues. Ref: 5223',\n",
       " 'Yup next stop.',\n",
       " 'Height of recycling: Read twice- People spend time for earning money and the same money is spent for spending time!;-) Good morning.. keep smiling:-)',\n",
       " \"You should get more chicken broth if you want ramen unless there's some I don't know about\",\n",
       " 'Happy new years melody!',\n",
       " 'What year. And how many miles.',\n",
       " \"Anyway I don't think I can secure anything up here, lemme know if you want me to drive down south and chill\",\n",
       " 'Important notice: Your prize claim requires urgent attention. Act as soon as possible to avoid issues. Ref: 573',\n",
       " 'I see the letter B on my car',\n",
       " 'Captain vijaykanth is doing comedy in captain tv..he is drunken :)',\n",
       " 'Important notice: Your prize claim requires urgent attention. Act as soon as possible to avoid issues. Ref: 4447',\n",
       " 'Due to suspicious activities, your account will be suspended. Please confirm your password and security questions to reactivate it.',\n",
       " 'Important notice: Your prize claim requires urgent attention. Act immediately to avoid issues. Ref: 613',\n",
       " '18 days to Euro2004 kickoff! U will be kept informed of all the latest news and results daily. Unsubscribe send GET EURO STOP to 83222.',\n",
       " 'Important notice: Your prize claim requires urgent attention. Act as soon as possible to avoid issues. Ref: 5715',\n",
       " 'Important notice: Your account verification requires urgent attention. Act immediately to avoid issues. Ref: 518',\n",
       " 'Important notice: Your tax refund requires urgent attention. Act as soon as possible to avoid issues. Ref: 6276',\n",
       " 'Important notice: Your account verification requires urgent attention. Act without delay to avoid issues. Ref: 7816',\n",
       " 'Now thats going to ruin your thesis!',\n",
       " 'Important notice: Your tax refund requires urgent attention. Act as soon as possible to avoid issues. Ref: 9669',\n",
       " 'Up to ü... Ü wan come then come lor... But i din c any stripes skirt...',\n",
       " 'Important notice: Your prize claim requires urgent attention. Act as soon as possible to avoid issues. Ref: 6201',\n",
       " 'Important notice: Your account verification requires urgent attention. Act as soon as possible to avoid issues. Ref: 3574',\n",
       " 'Well. Im computerless. Time to make some oreo truffles',\n",
       " \"Fyi I'm gonna call you sporadically starting at like  &lt;#&gt;  bc we are not not doin this shit\",\n",
       " 'We would like you to inform you that there has been an order placed for an Apple iPhone 11 Pro using your Amazon account. If you do not authorize this order, press 1 to speak to our representative, or press 2 to authorize. ',\n",
       " \"Sorry i now then c ur msg... Yar lor so poor thing... But only 4 one night... Tmr u'll have a brand new room 2 sleep in...\",\n",
       " 'Important notice: Your tax refund requires urgent attention. Act without delay to avoid issues. Ref: 274',\n",
       " 'Important notice: Your tax refund requires urgent attention. Act without delay to avoid issues. Ref: 1145',\n",
       " 'Important notice: Your account verification requires urgent attention. Act as soon as possible to avoid issues. Ref: 463',\n",
       " 'Wif my family booking tour package.',\n",
       " \"Good morning,  my boytoy! How's those yummy lips ? Where's my sexy buns now ? What do you do ? Do you think of me ? Do you crave me ? Do you need me ?\",\n",
       " 'A guy who gets used but is too dumb to realize it.',\n",
       " 'Its a valentine game. . . Send dis msg to all ur friends. .. If 5 answers r d same then someone really loves u. Ques- which colour suits me the best?rply me',\n",
       " \"I'm at bruce &amp; fowler now but I'm in my mom's car so I can't park (long story)\",\n",
       " 'Important notice: Your account verification requires urgent attention. Act as soon as possible to avoid issues. Ref: 1914',\n",
       " 'Todays Voda numbers ending with 7634 are selected to receive a £350 reward. If you have a match please call 08712300220 quoting claim code 7684 standard rates apply.',\n",
       " 'Important notice: Your tax refund requires urgent attention. Act immediately to avoid issues. Ref: 2641',\n",
       " 'Important notice: Your account verification requires urgent attention. Act without delay to avoid issues. Ref: 1161',\n",
       " 'Important notice: Your prize claim requires urgent attention. Act immediately to avoid issues. Ref: 4197',\n",
       " 'Was the farm open?',\n",
       " 'Hello. Hi, this call is from Social Security Administration Office. My name is Officer Amanda Barnes and the purpose of the call we are trying to reach you to let you know that your Social Security number has been used for some kind of fraudulent activities in the south border of Texas, so please in order go ahead get more information. To speak with Officer, press 1. I repeat press 1. Thank you and have a great day. ',\n",
       " 'Apps class varaya elaya.',\n",
       " 'Important notice: Your account verification requires urgent attention. Act without delay to avoid issues. Ref: 135',\n",
       " 'Important notice: Your account verification requires urgent attention. Act without delay to avoid issues. Ref: 2058',\n",
       " 'Buy one egg for me da..please:)',\n",
       " 'K.k.this month kotees birthday know?',\n",
       " 'Important notice: Your tax refund requires urgent attention. Act as soon as possible to avoid issues. Ref: 1203',\n",
       " 'Important notice: Your account verification requires urgent attention. Act immediately to avoid issues. Ref: 7320',\n",
       " 'Lol no. U can trust me.',\n",
       " 'K give me a sec, breaking a  &lt;#&gt;  at cstore',\n",
       " 'Important notice: Your tax refund requires urgent attention. Act as soon as possible to avoid issues. Ref: 8464',\n",
       " \"U don't remember that old commercial?\",\n",
       " 'Sorry that took so long.',\n",
       " \"Idk. You keep saying that you're not,  but since he moved, we keep butting heads over freedom vs. responsibility. And i'm tired. I have so much other shit to deal with that i'm barely keeping myself together once this gets added to it.\",\n",
       " 'Important notice: Your prize claim requires urgent attention. Act immediately to avoid issues. Ref: 7131',\n",
       " 'Did he just say somebody is named tampa',\n",
       " \"I can't find my keys; have you seen them anywhere?\",\n",
       " 'Important notice: Your account verification requires urgent attention. Act without delay to avoid issues. Ref: 5516',\n",
       " '22 days to kick off! For Euro2004 U will be kept up to date with the latest news and results daily. To be removed send GET TXT STOP to 83222',\n",
       " 'Your email has been flagged for unusual activity. Please confirm your password to secure your account.',\n",
       " 'Important notice: Your account verification requires urgent attention. Act without delay to avoid issues. Ref: 834',\n",
       " 'Had the money issue weigh me down but thanks to you,  I can breathe easier now. I.ll make sure you dont regret it. Thanks.',\n",
       " 'Important notice: Your prize claim requires urgent attention. Act as soon as possible to avoid issues. Ref: 1296',\n",
       " 'Important notice: Your account verification requires urgent attention. Act without delay to avoid issues. Ref: 3040',\n",
       " 'Doing nothing,  then u not having dinner w us?',\n",
       " 'Important notice: Your tax refund requires urgent attention. Act as soon as possible to avoid issues. Ref: 4402',\n",
       " 'Important notice: Your prize claim requires urgent attention. Act as soon as possible to avoid issues. Ref: 7269',\n",
       " 'If I had a map I would give it to her.',\n",
       " \"Get the door,  I'm here\",\n",
       " 'Will you be here for food',\n",
       " 'Important notice: Your account verification requires urgent attention. Act as soon as possible to avoid issues. Ref: 8927',\n",
       " 'Hey babe,  my friend had to cancel, still up for a visit ?',\n",
       " 'your electric service will be disconnected within the next 30 minutes due to non-payment. Immediate action is required to avoid disconnection today. For automatic payments and payment arrangements, press 1. To speak to a customer service representative, press 2. For Spanish, press 9. ',\n",
       " 'Important notice: Your account verification requires urgent attention. Act without delay to avoid issues. Ref: 7793',\n",
       " \"I'm tired of arguing with you about this week after week. Do what you want and from now on,  i'll do the same.\",\n",
       " 'Ok. Very good. Its all about making that money.',\n",
       " 'I am a travel blogger. I used to travel to different places and explore different cultures and varieties of food to write it in my blog. I would like to ask you also to follow my blog.',\n",
       " 'Due to a recent update, we need to verify your account. Please provide your account details and password.',\n",
       " 'Your payment information needs to be updated. Please provide your new credit card number and expiry date.',\n",
       " 'Studying. But i.ll be free next weekend.',\n",
       " 'Important notice: Your prize claim requires urgent attention. Act immediately to avoid issues. Ref: 319',\n",
       " 'Important notice: Your account verification requires urgent attention. Act without delay to avoid issues. Ref: 2016',\n",
       " 'Playin space poker, u?',\n",
       " 'Sounds good,  keep me posted',\n",
       " 'Would you WANNA DO THEN MISSY?',\n",
       " 'Are you driving or training?',\n",
       " 'How was the conference last week? Learn anything exciting?',\n",
       " 'Important notice: Your prize claim requires urgent attention. Act without delay to avoid issues. Ref: 5493',\n",
       " \"Hello, this is the police department. We've found a car registered in your name involved in a crime. Please provide your license number for verification.\",\n",
       " 'Aiyar sorry lor forgot 2 tell u...',\n",
       " 'PRIVATE! Your 2003 Account Statement for <fone no> shows 800 un-redeemed S. I. M. points. Call 08715203656 Identifier Code: 42049 Expires 26/10/04',\n",
       " 'Important notice: Your account verification requires urgent attention. Act without delay to avoid issues. Ref: 4687',\n",
       " 'New Tones This week include: 1)McFly-All Ab..,  2) Sara Jorge-Shock.. 3) Will Smith-Switch.. To order follow instructions on next message',\n",
       " 'Important notice: Your prize claim requires urgent attention. Act as soon as possible to avoid issues. Ref: 6822',\n",
       " 'Important notice: Your tax refund requires urgent attention. Act immediately to avoid issues. Ref: 227',\n",
       " \"I heard there's a new documentary out. Maybe we could watch it together?\",\n",
       " 'Just sing HU. I think its also important to find someone female that know the place well preferably a citizen that is also smart to help you navigate through. Even things like choosing a phone plan require guidance. When in doubt ask especially girls.',\n",
       " \"I'm trying to learn a new language. Any tips on getting started?\",\n",
       " 'Go until jurong point, crazy.. Available only in bugis n great world la e buffet... Cine there got amore wat...',\n",
       " 'Yo theres no class tmrw right?',\n",
       " 'Important notice: Your tax refund requires urgent attention. Act as soon as possible to avoid issues. Ref: 4767',\n",
       " 'Important notice: Your account verification requires urgent attention. Act immediately to avoid issues. Ref: 4028',\n",
       " 'Important notice: Your tax refund requires urgent attention. Act immediately to avoid issues. Ref: 5753',\n",
       " \"I'm doing da intro covers energy trends n pros n cons... Brief description of nuclear fusion n oso brief history of iter n jet got abt 7 n half pages..\",\n",
       " 'Where did you go? My phone is gonna die you have to stay in here.',\n",
       " 'Important notice: Your tax refund requires urgent attention. Act without delay to avoid issues. Ref: 6986',\n",
       " 'Can you get picture message to your phone?',\n",
       " 'How dare you change my ring',\n",
       " '3 FREE TAROT TEXTS! Find out about your love life now! TRY 3 FOR FREE! Text CHANCE to 85555 16 only! ',\n",
       " 'Important notice: Your prize claim requires urgent attention. Act without delay to avoid issues. Ref: 5055',\n",
       " 'Important notice: Your prize claim requires urgent attention. Act immediately to avoid issues. Ref: 8722',\n",
       " 'Social Security number has been used for some kind of fraudulent activities in the south border of Texas, so please in order go ahead get more information. To speak with officer press 1. I repeat press 1. Thank you and have a great day. ',\n",
       " 'My sister in law, hope you are having a great month. Just saying hey. Abiola',\n",
       " \"I'm home, my love ... If your still awake ... *loving kiss*\",\n",
       " \"if you aren't here in the next  &lt;#&gt;  hours imma flip my shit\",\n",
       " \"1000's flirting NOW! Txt GIRL or BLOKE & ur NAME & AGE,  eg GIRL ZOE 18 to 8007 to join and get chatting!\",\n",
       " \"Are you going to the charity run next weekend? It's for a great cause.\",\n",
       " \"Am on a train back from northampton so i'm afraid not! I'm staying skyving off today ho ho! Will be around wednesday though. Do you fancy the comedy club this week by the way?\",\n",
       " 'Important notice: Your account verification requires urgent attention. Act immediately to avoid issues. Ref: 1724',\n",
       " 'Important notice: Your tax refund requires urgent attention. Act as soon as possible to avoid issues. Ref: 767',\n",
       " 'Important notice: Your tax refund requires urgent attention. Act as soon as possible to avoid issues. Ref: 984',\n",
       " 'Important notice: Your tax refund requires urgent attention. Act immediately to avoid issues. Ref: 4768',\n",
       " 'Important notice: Your tax refund requires urgent attention. Act without delay to avoid issues. Ref: 622',\n",
       " \"I'm working technical support :)voice process.\",\n",
       " 'Important notice: Your tax refund requires urgent attention. Act immediately to avoid issues. Ref: 8238',\n",
       " 'You know my old Dom I told you about yesterday ? His name is Roger? He got in touch with me last night and wants me to meet him today at 2 pm',\n",
       " \"What's your room number again? Wanna make sure I'm knocking on the right door\",\n",
       " 'Important notice: Your account verification requires urgent attention. Act as soon as possible to avoid issues. Ref: 2721',\n",
       " 'Valentines Day Special! Win over £1000 in our quiz and take your partner on the trip of a lifetime! Send GO to 83600 now. 150p/msg rcvd. CustCare:08718720201.',\n",
       " '&lt;#&gt;  w jetton ave if you forgot',\n",
       " \"So i'm doing a list of buyers.\",\n",
       " 'Dont forget you can place as many FREE Requests with 1stchoice.co.uk as you wish. For more Information call 08707808226.',\n",
       " 'U really pig leh sleep so much. My dad wake me up at 10 smth 2 eat lunch today.',\n",
       " 'Important notice: Your prize claim requires urgent attention. Act as soon as possible to avoid issues. Ref: 236',\n",
       " 'Yar lor wait 4 my mum 2 finish sch then have lunch lor... I whole morning stay at home clean my room now my room quite clean... Hee...',\n",
       " 'HOT LIVE FANTASIES call now 08707509020 Just 20p per min NTT Ltd,  PO Box 1327 Croydon CR9 5WB 0870 is a national rate call',\n",
       " 'Important notice: Your account verification requires urgent attention. Act as soon as possible to avoid issues. Ref: 2343',\n",
       " 'Important notice: Your account verification requires urgent attention. Act without delay to avoid issues. Ref: 1108',\n",
       " 'Important notice: Your tax refund requires urgent attention. Act without delay to avoid issues. Ref: 2122',\n",
       " 'Important notice: Your tax refund requires urgent attention. Act as soon as possible to avoid issues. Ref: 9461',\n",
       " 'So i could kiss and feel you next to me...',\n",
       " 'Good day to You too.Pray for me.Remove the teeth as its painful maintaining other stuff.',\n",
       " 'Thank you for choosing Visa and MasterCard Services as your legal financial advisors. This is an important message regarding your existing credit card accounts. Thanks to your good payment history and good credit score, you have been qualified finally for an interest rate reduction between 0 to 5 percent. Several attempts were made to reach you, this is your final courtesy call before we are unable to lower your interest rates. So press 1 now. ',\n",
       " 'Ü dun need to pick ur gf?',\n",
       " 'Important notice: Your prize claim requires urgent attention. Act without delay to avoid issues. Ref: 7057',\n",
       " 'In The Simpsons Movie released in July 2007 name the band that died at the start of the film? A-Green Day,  B-Blue Day, C-Red Day. (Send A, B or C)',\n",
       " 'Really dun bluff me leh... U sleep early too. Nite...',\n",
       " 'Important notice: Your tax refund requires urgent attention. Act immediately to avoid issues. Ref: 4190',\n",
       " 'Your warranty is about to expire. Provide your details to extend it for another year at a special rate.',\n",
       " \"Hi! You just spoke to MANEESHA . We'd like to know if you were satisfied with the experience. Reply Toll Free with Yes or No.\",\n",
       " \"The very second you receive this message you need to leave your work aside so that we can discuss about your case and take necessary action on this matter. In order to connect federal agent press 1 and you will be connected to the concerned department. If we don't hear from you, then we will be forced to take legal action against you. Press 1 and you will be connected to the concerned CBP officer. Hi, this is officer calling you from the legal department. The very second you receive this message you need to leave your work aside so that we can discuss about your case and take necessary action on this matter. In order to connect federal agent press 1 and you will be connected to the concerned department. If we don't hear from you, then we will be forced to take legal action against you. Press 1 and you will be connected to the concerned CBP officer. \",\n",
       " 'I always chat with you. In fact i need money can you raise me?',\n",
       " 'Had your contract mobile 11 Mnths? Latest Motorola, Nokia etc. all FREE! Double Mins & Text on Orange tariffs. TEXT YES for callback, no to remove from records.',\n",
       " 'What is important is that you prevent dehydration by giving her enough fluids',\n",
       " 'Important notice: Your account verification requires urgent attention. Act immediately to avoid issues. Ref: 3354',\n",
       " 'Looks like you found something to do other than smoke, great job!',\n",
       " 'trying to reach you to let you know that your social security number has been used for some kind of fraudulent activities in the South border of Texas. So please in order go ahead, get more information to speak with officer press one. I repeat press one. Thank you and have a great day. ',\n",
       " 'Are you planning to come chennai?',\n",
       " 'Your account has unusual sign-in activity. Please verify your password and security questions to continue.',\n",
       " 'A Boy loved a gal. He propsd bt she didnt mind. He gv lv lttrs, Bt her frnds threw thm. Again d boy decided 2 aproach d gal , dt time a truck was speeding towards d gal. Wn it was about 2 hit d girl,d boy ran like hell n saved her. She asked \\'hw cn u run so fast?\\' D boy replied \"Boost is d secret of my energy\" n instantly d girl shouted \"our energy\" n Thy lived happily 2gthr drinking boost evrydy Moral of d story:- I hv free msgs:D;): gud ni8',\n",
       " \"Sorry,  I'll call later\",\n",
       " 'Dear relieved of westonzoyland,  all going to plan this end too!',\n",
       " ...]"
      ]
     },
     "execution_count": 16,
     "metadata": {},
     "output_type": "execute_result"
    }
   ],
   "source": [
    "messages = df_test.message.tolist()\n",
    "messages"
   ]
  },
  {
   "cell_type": "code",
   "execution_count": 17,
   "metadata": {},
   "outputs": [],
   "source": [
    "# Convert summaries to a list\n",
    "messages = df_test.message.tolist()"
   ]
  },
  {
   "cell_type": "code",
   "execution_count": 18,
   "metadata": {},
   "outputs": [],
   "source": [
    "evaluation_results = {}"
   ]
  },
  {
   "cell_type": "code",
   "execution_count": 19,
   "metadata": {},
   "outputs": [],
   "source": [
    "def get_performance_metrics(model_name,df_test):\n",
    "  y_test = df_test.label\n",
    "  y_pred = df_test.predictions\n",
    "\n",
    "  y_test = y_test.astype('category')\n",
    "  y_pred = y_pred.astype('category')\n",
    "\n",
    "  y_test = y_test.cat.codes\n",
    "  y_pred = y_pred.cat.codes\n",
    "\n",
    "  accuracy = accuracy_score(y_test, y_pred)\n",
    "  precision = precision_score(y_test, y_pred)\n",
    "  recall = recall_score(y_test, y_pred)\n",
    "  f1 = f1_score(y_test, y_pred)\n",
    "\n",
    "\n",
    "  evaluation_results[model_name] = {\n",
    "      'accuracy': accuracy,\n",
    "      'precision': precision,\n",
    "      'recall': recall,\n",
    "      'f1_score': f1\n",
    "  }\n",
    "\n",
    "  print(f\"Accuracy: {accuracy:.4f}\")\n",
    "  print(f\"Precision: {precision:.4f}\")\n",
    "  print(f\"Recall: {recall:.4f}\")\n",
    "  print(f\"F1-Score: {f1:.4f}\")\n",
    "\n",
    "  print(\"Confusion Matrix:\")\n",
    "  print(confusion_matrix(y_test, y_pred))\n",
    "\n",
    "  print(\"\\nClassification Report:\")\n",
    "  print(classification_report(y_test, y_pred))\n",
    "\n",
    "  print(\"Balanced Accuracy Score:\", balanced_accuracy_score(y_test, y_pred))\n",
    "  print(\"Accuracy Score:\", accuracy_score(y_test, y_pred))\n",
    "\n",
    "  # Plot confusion matrix\n",
    "  labels = ['fraud', 'normal']\n",
    "  cm = confusion_matrix(y_test, y_pred, labels=[0, 1])\n",
    "  disp = ConfusionMatrixDisplay(confusion_matrix=cm, display_labels=labels)\n",
    "  disp.plot(cmap=plt.cm.Blues)\n",
    "  plt.title(f'Confusion Matrix: {model_name}')\n",
    "  plt.show()\n",
    "  "
   ]
  },
  {
   "cell_type": "code",
   "execution_count": 20,
   "metadata": {},
   "outputs": [],
   "source": [
    "def compute_metrics(eval_pred):\n",
    "    predictions, labels = eval_pred\n",
    "    predictions = np.argmax(predictions, axis=1)\n",
    "    return {'balanced_accuracy' : balanced_accuracy_score(predictions, labels),'accuracy':accuracy_score(predictions,labels)}"
   ]
  },
  {
   "cell_type": "code",
   "execution_count": 21,
   "metadata": {},
   "outputs": [],
   "source": [
    "class CustomTrainer(Trainer):\n",
    "    def __init__(self, *args, class_weights=None, **kwargs):\n",
    "        super().__init__(*args, **kwargs)\n",
    "        # Ensure label_weights is a tensor\n",
    "        if class_weights is not None:\n",
    "            self.class_weights = torch.tensor(class_weights, dtype=torch.float32).to(self.args.device)\n",
    "        else:\n",
    "            self.class_weights = None\n",
    "\n",
    "    def compute_loss(self, model, inputs, return_outputs=False):\n",
    "        # Extract labels and convert them to long type for cross_entropy\n",
    "        labels = inputs.pop(\"labels\").long()\n",
    "\n",
    "        # Forward pass\n",
    "        outputs = model(**inputs)\n",
    "\n",
    "        # Extract logits assuming they are directly outputted by the model\n",
    "        logits = outputs.get('logits')\n",
    "\n",
    "        # # Compute custom loss with class weights for imbalanced data handling\n",
    "        if self.class_weights is not None:\n",
    "            loss = F.cross_entropy(logits, labels, weight=self.class_weights)\n",
    "        else:\n",
    "            loss = F.cross_entropy(logits, labels)\n",
    "\n",
    "        return (loss, outputs) if return_outputs else loss"
   ]
  },
  {
   "cell_type": "code",
   "execution_count": 22,
   "metadata": {},
   "outputs": [],
   "source": [
    "def train_model(tokenizer, model):\n",
    "    MAX_LEN = 512\n",
    "    col_to_delete = ['message']\n",
    "\n",
    "    def preprocessing_function(examples):\n",
    "        return tokenizer(examples['message'], truncation=True, max_length=MAX_LEN)\n",
    "\n",
    "    tokenized_datasets = dataset.map(preprocessing_function, batched=True, remove_columns=col_to_delete)\n",
    "    tokenized_datasets = tokenized_datasets.rename_column(\"target\", \"label\")\n",
    "    tokenized_datasets.set_format(\"torch\")\n",
    "\n",
    "    collate_fn = DataCollatorWithPadding(tokenizer=tokenizer)\n",
    "\n",
    "    training_args = TrainingArguments(\n",
    "        output_dir = 'sentiment_classification',\n",
    "        learning_rate = 1e-4,\n",
    "        per_device_train_batch_size = 8,\n",
    "        per_device_eval_batch_size = 8,\n",
    "        num_train_epochs = 3,\n",
    "        weight_decay = 0.01,\n",
    "        eval_strategy = 'epoch',\n",
    "        save_strategy = 'epoch',\n",
    "        load_best_model_at_end = True\n",
    "    )\n",
    "\n",
    "    trainer = CustomTrainer(\n",
    "        model = model,\n",
    "        args = training_args,\n",
    "        train_dataset = tokenized_datasets['train'],\n",
    "        eval_dataset = tokenized_datasets['val'],\n",
    "        tokenizer = tokenizer,\n",
    "        data_collator = collate_fn,\n",
    "        compute_metrics = compute_metrics,\n",
    "        class_weights=class_weights,\n",
    "    )\n",
    "\n",
    "    train_result = trainer.train()\n",
    "\n",
    "    metrics = train_result.metrics\n",
    "    max_train_samples = len(dataset_train)\n",
    "    metrics[\"train_samples\"] = min(max_train_samples, len(dataset_train))\n",
    "    trainer.log_metrics(\"train\", metrics)\n",
    "    trainer.save_metrics(\"train\", metrics)\n",
    "    trainer.save_state()\n"
   ]
  },
  {
   "cell_type": "code",
   "execution_count": 23,
   "metadata": {},
   "outputs": [],
   "source": [
    "def make_predictions(tokenizer,model,df_test):\n",
    "  # Convert summaries to a list\n",
    "  messages = df_test.message.tolist()\n",
    "\n",
    "  # Define the batch size\n",
    "  batch_size = 32  # You can adjust this based on your system's memory capacity\n",
    "\n",
    "  # Initialize an empty list to store the model outputs\n",
    "  all_outputs = []\n",
    "\n",
    "  # Process the sentences in batches\n",
    "  for i in range(0, len(messages), batch_size):\n",
    "      # Get the batch of sentences\n",
    "      batch_messages = messages[i:i + batch_size]\n",
    "\n",
    "      # Tokenize the batch\n",
    "      inputs = tokenizer(batch_messages, return_tensors=\"pt\", padding=True, truncation=True, max_length=512)\n",
    "\n",
    "      # Move tensors to the device where the model is (e.g., GPU or CPU)\n",
    "      inputs = {k: v.to('cuda' if torch.cuda.is_available() else 'cpu') for k, v in inputs.items()}\n",
    "\n",
    "      # Perform inference and store the logits\n",
    "      with torch.no_grad():\n",
    "          outputs = model(**inputs)\n",
    "          all_outputs.append(outputs['logits'])\n",
    "      \n",
    "  final_outputs = torch.cat(all_outputs, dim=0)\n",
    "  df_test['predictions']=final_outputs.argmax(axis=1).cpu().numpy()\n",
    "  df_test['predictions']=df_test['predictions'].apply(lambda l:category_map[l])\n"
   ]
  },
  {
   "cell_type": "markdown",
   "metadata": {},
   "source": [
    "# Bert"
   ]
  },
  {
   "cell_type": "code",
   "execution_count": 24,
   "metadata": {},
   "outputs": [
    {
     "name": "stdout",
     "output_type": "stream",
     "text": [
      "Training and evaluating bert...\n"
     ]
    },
    {
     "name": "stderr",
     "output_type": "stream",
     "text": [
      "Some weights of BertForSequenceClassification were not initialized from the model checkpoint at bert-base-uncased and are newly initialized: ['classifier.bias', 'classifier.weight']\n",
      "You should probably TRAIN this model on a down-stream task to be able to use it for predictions and inference.\n",
      "Map: 100%|██████████| 9144/9144 [00:02<00:00, 4302.70 examples/s]\n",
      "Map: 100%|██████████| 3048/3048 [00:00<00:00, 4383.64 examples/s]\n",
      "Map: 100%|██████████| 3049/3049 [00:00<00:00, 4422.91 examples/s]\n",
      "C:\\Users\\Potbottom\\AppData\\Local\\Temp\\ipykernel_23084\\4162890314.py:6: UserWarning: To copy construct from a tensor, it is recommended to use sourceTensor.clone().detach() or sourceTensor.clone().detach().requires_grad_(True), rather than torch.tensor(sourceTensor).\n",
      "  self.class_weights = torch.tensor(class_weights, dtype=torch.float32).to(self.args.device)\n",
      "  0%|          | 0/3429 [00:00<?, ?it/s]c:\\Users\\Potbottom\\AppData\\Local\\Programs\\Python\\Python312\\Lib\\site-packages\\transformers\\models\\bert\\modeling_bert.py:435: UserWarning: 1Torch was not compiled with flash attention. (Triggered internally at ..\\aten\\src\\ATen\\native\\transformers\\cuda\\sdp_utils.cpp:455.)\n",
      "  attn_output = torch.nn.functional.scaled_dot_product_attention(\n",
      " 15%|█▍        | 503/3429 [00:34<03:13, 15.10it/s]"
     ]
    },
    {
     "name": "stdout",
     "output_type": "stream",
     "text": [
      "{'loss': 0.121, 'grad_norm': 4.5865583419799805, 'learning_rate': 8.541848935549723e-05, 'epoch': 0.44}\n"
     ]
    },
    {
     "name": "stderr",
     "output_type": "stream",
     "text": [
      " 29%|██▉       | 1003/3429 [01:06<02:32, 15.94it/s]"
     ]
    },
    {
     "name": "stdout",
     "output_type": "stream",
     "text": [
      "{'loss': 0.0852, 'grad_norm': 0.07830007374286652, 'learning_rate': 7.083697871099446e-05, 'epoch': 0.87}\n"
     ]
    },
    {
     "name": "stderr",
     "output_type": "stream",
     "text": [
      "                                                   \n",
      " 33%|███▎      | 1143/3429 [01:20<02:29, 15.25it/s]"
     ]
    },
    {
     "name": "stdout",
     "output_type": "stream",
     "text": [
      "{'eval_loss': 0.07051923125982285, 'eval_balanced_accuracy': 0.9892659064473699, 'eval_accuracy': 0.989501312335958, 'eval_runtime': 4.4739, 'eval_samples_per_second': 681.282, 'eval_steps_per_second': 85.16, 'epoch': 1.0}\n"
     ]
    },
    {
     "name": "stderr",
     "output_type": "stream",
     "text": [
      " 44%|████▍     | 1503/3429 [01:45<02:08, 15.01it/s]"
     ]
    },
    {
     "name": "stdout",
     "output_type": "stream",
     "text": [
      "{'loss': 0.0481, 'grad_norm': 0.029225992038846016, 'learning_rate': 5.625546806649169e-05, 'epoch': 1.31}\n"
     ]
    },
    {
     "name": "stderr",
     "output_type": "stream",
     "text": [
      " 58%|█████▊    | 2003/3429 [02:17<01:29, 16.00it/s]"
     ]
    },
    {
     "name": "stdout",
     "output_type": "stream",
     "text": [
      "{'loss': 0.051, 'grad_norm': 0.08297580480575562, 'learning_rate': 4.167395742198892e-05, 'epoch': 1.75}\n"
     ]
    },
    {
     "name": "stderr",
     "output_type": "stream",
     "text": [
      "                                                   \n",
      " 67%|██████▋   | 2286/3429 [02:41<01:28, 12.96it/s]"
     ]
    },
    {
     "name": "stdout",
     "output_type": "stream",
     "text": [
      "{'eval_loss': 0.06044252589344978, 'eval_balanced_accuracy': 0.9893678561471982, 'eval_accuracy': 0.9891732283464567, 'eval_runtime': 4.6139, 'eval_samples_per_second': 660.615, 'eval_steps_per_second': 82.577, 'epoch': 2.0}\n"
     ]
    },
    {
     "name": "stderr",
     "output_type": "stream",
     "text": [
      " 73%|███████▎  | 2503/3429 [02:55<01:01, 15.18it/s]"
     ]
    },
    {
     "name": "stdout",
     "output_type": "stream",
     "text": [
      "{'loss': 0.0383, 'grad_norm': 0.01695474237203598, 'learning_rate': 2.7092446777486146e-05, 'epoch': 2.19}\n"
     ]
    },
    {
     "name": "stderr",
     "output_type": "stream",
     "text": [
      " 88%|████████▊ | 3003/3429 [03:27<00:26, 16.14it/s]"
     ]
    },
    {
     "name": "stdout",
     "output_type": "stream",
     "text": [
      "{'loss': 0.0292, 'grad_norm': 0.011761416681110859, 'learning_rate': 1.2510936132983377e-05, 'epoch': 2.62}\n"
     ]
    },
    {
     "name": "stderr",
     "output_type": "stream",
     "text": [
      "                                                   \n",
      "100%|██████████| 3429/3429 [03:59<00:00, 15.32it/s]"
     ]
    },
    {
     "name": "stdout",
     "output_type": "stream",
     "text": [
      "{'eval_loss': 0.042672086507081985, 'eval_balanced_accuracy': 0.9915838469426187, 'eval_accuracy': 0.9914698162729659, 'eval_runtime': 4.6635, 'eval_samples_per_second': 653.584, 'eval_steps_per_second': 81.698, 'epoch': 3.0}\n"
     ]
    },
    {
     "name": "stderr",
     "output_type": "stream",
     "text": [
      "100%|██████████| 3429/3429 [04:01<00:00, 14.23it/s]"
     ]
    },
    {
     "name": "stdout",
     "output_type": "stream",
     "text": [
      "{'train_runtime': 241.0547, 'train_samples_per_second': 113.8, 'train_steps_per_second': 14.225, 'train_loss': 0.05688649358607548, 'epoch': 3.0}\n",
      "***** train metrics *****\n",
      "  epoch                    =        3.0\n",
      "  total_flos               =   782091GF\n",
      "  train_loss               =     0.0569\n",
      "  train_runtime            = 0:04:01.05\n",
      "  train_samples            =       9144\n",
      "  train_samples_per_second =      113.8\n",
      "  train_steps_per_second   =     14.225\n"
     ]
    },
    {
     "name": "stderr",
     "output_type": "stream",
     "text": [
      "\n"
     ]
    }
   ],
   "source": [
    "tokenizer, model = tokenizer_model('bert')\n",
    "train_model(tokenizer, model)\n"
   ]
  },
  {
   "cell_type": "code",
   "execution_count": 25,
   "metadata": {},
   "outputs": [
    {
     "name": "stdout",
     "output_type": "stream",
     "text": [
      "Accuracy: 0.9928\n",
      "Precision: 0.9914\n",
      "Recall: 0.9928\n",
      "F1-Score: 0.9921\n",
      "Confusion Matrix:\n",
      "[[1641   12]\n",
      " [  10 1386]]\n",
      "\n",
      "Classification Report:\n",
      "              precision    recall  f1-score   support\n",
      "\n",
      "           0       0.99      0.99      0.99      1653\n",
      "           1       0.99      0.99      0.99      1396\n",
      "\n",
      "    accuracy                           0.99      3049\n",
      "   macro avg       0.99      0.99      0.99      3049\n",
      "weighted avg       0.99      0.99      0.99      3049\n",
      "\n",
      "Balanced Accuracy Score: 0.9927885740435467\n",
      "Accuracy Score: 0.9927845195145949\n"
     ]
    },
    {
     "name": "stderr",
     "output_type": "stream",
     "text": [
      "C:\\Users\\Potbottom\\AppData\\Local\\Temp\\ipykernel_23084\\2986263682.py:28: SettingWithCopyWarning: \n",
      "A value is trying to be set on a copy of a slice from a DataFrame.\n",
      "Try using .loc[row_indexer,col_indexer] = value instead\n",
      "\n",
      "See the caveats in the documentation: https://pandas.pydata.org/pandas-docs/stable/user_guide/indexing.html#returning-a-view-versus-a-copy\n",
      "  df_test['predictions']=final_outputs.argmax(axis=1).cpu().numpy()\n",
      "C:\\Users\\Potbottom\\AppData\\Local\\Temp\\ipykernel_23084\\2986263682.py:29: SettingWithCopyWarning: \n",
      "A value is trying to be set on a copy of a slice from a DataFrame.\n",
      "Try using .loc[row_indexer,col_indexer] = value instead\n",
      "\n",
      "See the caveats in the documentation: https://pandas.pydata.org/pandas-docs/stable/user_guide/indexing.html#returning-a-view-versus-a-copy\n",
      "  df_test['predictions']=df_test['predictions'].apply(lambda l:category_map[l])\n"
     ]
    },
    {
     "data": {
      "image/png": "[encoded data removed]",
      "text/plain": [
       "<Figure size 640x480 with 2 Axes>"
      ]
     },
     "metadata": {},
     "output_type": "display_data"
    }
   ],
   "source": [
    "make_predictions(tokenizer,model,df_test)\n",
    "get_performance_metrics('bert',df_test)"
   ]
  },
  {
   "cell_type": "markdown",
   "metadata": {},
   "source": [
    "# Roberta"
   ]
  },
  {
   "cell_type": "code",
   "execution_count": 26,
   "metadata": {},
   "outputs": [
    {
     "name": "stdout",
     "output_type": "stream",
     "text": [
      "Training and evaluating roberta...\n"
     ]
    },
    {
     "name": "stderr",
     "output_type": "stream",
     "text": [
      "Some weights of RobertaForSequenceClassification were not initialized from the model checkpoint at roberta-base and are newly initialized: ['classifier.dense.bias', 'classifier.dense.weight', 'classifier.out_proj.bias', 'classifier.out_proj.weight']\n",
      "You should probably TRAIN this model on a down-stream task to be able to use it for predictions and inference.\n",
      "Map: 100%|██████████| 9144/9144 [00:01<00:00, 8266.12 examples/s]\n",
      "Map: 100%|██████████| 3048/3048 [00:00<00:00, 7691.05 examples/s]\n",
      "Map: 100%|██████████| 3049/3049 [00:00<00:00, 7572.57 examples/s]\n",
      "C:\\Users\\Potbottom\\AppData\\Local\\Temp\\ipykernel_23084\\4162890314.py:6: UserWarning: To copy construct from a tensor, it is recommended to use sourceTensor.clone().detach() or sourceTensor.clone().detach().requires_grad_(True), rather than torch.tensor(sourceTensor).\n",
      "  self.class_weights = torch.tensor(class_weights, dtype=torch.float32).to(self.args.device)\n",
      " 15%|█▍        | 502/3429 [00:38<03:35, 13.56it/s]"
     ]
    },
    {
     "name": "stdout",
     "output_type": "stream",
     "text": [
      "{'loss': 0.2658, 'grad_norm': 0.27610576152801514, 'learning_rate': 8.541848935549723e-05, 'epoch': 0.44}\n"
     ]
    },
    {
     "name": "stderr",
     "output_type": "stream",
     "text": [
      " 29%|██▉       | 1002/3429 [01:16<03:01, 13.37it/s]"
     ]
    },
    {
     "name": "stdout",
     "output_type": "stream",
     "text": [
      "{'loss': 0.3089, 'grad_norm': 0.3283512592315674, 'learning_rate': 7.083697871099446e-05, 'epoch': 0.87}\n"
     ]
    },
    {
     "name": "stderr",
     "output_type": "stream",
     "text": [
      " 33%|███▎      | 1142/3429 [01:27<03:00, 12.66it/s]\n",
      " 33%|███▎      | 1143/3429 [01:32<03:00, 12.66it/s]"
     ]
    },
    {
     "name": "stdout",
     "output_type": "stream",
     "text": [
      "{'eval_loss': 0.13416032493114471, 'eval_balanced_accuracy': 0.9681073797678275, 'eval_accuracy': 0.969488188976378, 'eval_runtime': 5.4481, 'eval_samples_per_second': 559.463, 'eval_steps_per_second': 69.933, 'epoch': 1.0}\n"
     ]
    },
    {
     "name": "stderr",
     "output_type": "stream",
     "text": [
      " 44%|████▍     | 1501/3429 [02:01<02:22, 13.56it/s]"
     ]
    },
    {
     "name": "stdout",
     "output_type": "stream",
     "text": [
      "{'loss': 0.1246, 'grad_norm': 0.15125873684883118, 'learning_rate': 5.625546806649169e-05, 'epoch': 1.31}\n"
     ]
    },
    {
     "name": "stderr",
     "output_type": "stream",
     "text": [
      " 58%|█████▊    | 2001/3429 [02:37<01:48, 13.16it/s]"
     ]
    },
    {
     "name": "stdout",
     "output_type": "stream",
     "text": [
      "{'loss': 0.1268, 'grad_norm': 0.2669876217842102, 'learning_rate': 4.167395742198892e-05, 'epoch': 1.75}\n"
     ]
    },
    {
     "name": "stderr",
     "output_type": "stream",
     "text": [
      " 67%|██████▋   | 2285/3429 [02:58<01:43, 11.01it/s]c:\\Users\\Potbottom\\AppData\\Local\\Programs\\Python\\Python312\\Lib\\site-packages\\sklearn\\metrics\\_classification.py:2466: UserWarning: y_pred contains classes not in y_true\n",
      "  warnings.warn(\"y_pred contains classes not in y_true\")\n",
      "\n",
      " 67%|██████▋   | 2286/3429 [03:03<01:43, 11.01it/s]"
     ]
    },
    {
     "name": "stdout",
     "output_type": "stream",
     "text": [
      "{'eval_loss': 0.7007571458816528, 'eval_balanced_accuracy': 0.5508530183727034, 'eval_accuracy': 0.5508530183727034, 'eval_runtime': 5.2127, 'eval_samples_per_second': 584.723, 'eval_steps_per_second': 73.09, 'epoch': 2.0}\n"
     ]
    },
    {
     "name": "stderr",
     "output_type": "stream",
     "text": [
      " 73%|███████▎  | 2503/3429 [03:21<01:08, 13.50it/s]"
     ]
    },
    {
     "name": "stdout",
     "output_type": "stream",
     "text": [
      "{'loss': 0.508, 'grad_norm': 0.6018638014793396, 'learning_rate': 2.7092446777486146e-05, 'epoch': 2.19}\n"
     ]
    },
    {
     "name": "stderr",
     "output_type": "stream",
     "text": [
      " 88%|████████▊ | 3001/3429 [03:59<00:31, 13.50it/s]"
     ]
    },
    {
     "name": "stdout",
     "output_type": "stream",
     "text": [
      "{'loss': 0.2816, 'grad_norm': 2.3922224044799805, 'learning_rate': 1.2510936132983377e-05, 'epoch': 2.62}\n"
     ]
    },
    {
     "name": "stderr",
     "output_type": "stream",
     "text": [
      "100%|██████████| 3429/3429 [04:32<00:00, 13.56it/s]\n",
      "100%|██████████| 3429/3429 [04:37<00:00, 13.56it/s]"
     ]
    },
    {
     "name": "stdout",
     "output_type": "stream",
     "text": [
      "{'eval_loss': 0.2803308367729187, 'eval_balanced_accuracy': 0.9107781163960349, 'eval_accuracy': 0.9028871391076115, 'eval_runtime': 5.4051, 'eval_samples_per_second': 563.917, 'eval_steps_per_second': 70.49, 'epoch': 3.0}\n"
     ]
    },
    {
     "name": "stderr",
     "output_type": "stream",
     "text": [
      "100%|██████████| 3429/3429 [04:39<00:00, 12.27it/s]"
     ]
    },
    {
     "name": "stdout",
     "output_type": "stream",
     "text": [
      "{'train_runtime': 279.5236, 'train_samples_per_second': 98.138, 'train_steps_per_second': 12.267, 'train_loss': 0.26761762586200366, 'epoch': 3.0}\n",
      "***** train metrics *****\n",
      "  epoch                    =        3.0\n",
      "  total_flos               =   785230GF\n",
      "  train_loss               =     0.2676\n",
      "  train_runtime            = 0:04:39.52\n",
      "  train_samples            =       9144\n",
      "  train_samples_per_second =     98.138\n",
      "  train_steps_per_second   =     12.267\n"
     ]
    },
    {
     "name": "stderr",
     "output_type": "stream",
     "text": [
      "\n"
     ]
    }
   ],
   "source": [
    "tokenizer, model = tokenizer_model('roberta')\n",
    "train_model(tokenizer, model)\n"
   ]
  },
  {
   "cell_type": "code",
   "execution_count": 27,
   "metadata": {},
   "outputs": [
    {
     "name": "stdout",
     "output_type": "stream",
     "text": [
      "Accuracy: 0.9695\n",
      "Precision: 0.9447\n",
      "Recall: 0.9914\n",
      "F1-Score: 0.9675\n",
      "Confusion Matrix:\n",
      "[[1572   81]\n",
      " [  12 1384]]\n",
      "\n",
      "Classification Report:\n",
      "              precision    recall  f1-score   support\n",
      "\n",
      "           0       0.99      0.95      0.97      1653\n",
      "           1       0.94      0.99      0.97      1396\n",
      "\n",
      "    accuracy                           0.97      3049\n",
      "   macro avg       0.97      0.97      0.97      3049\n",
      "weighted avg       0.97      0.97      0.97      3049\n",
      "\n",
      "Balanced Accuracy Score: 0.9712010982896426\n",
      "Accuracy Score: 0.9694981961298786\n"
     ]
    },
    {
     "name": "stderr",
     "output_type": "stream",
     "text": [
      "C:\\Users\\Potbottom\\AppData\\Local\\Temp\\ipykernel_23084\\2986263682.py:28: SettingWithCopyWarning: \n",
      "A value is trying to be set on a copy of a slice from a DataFrame.\n",
      "Try using .loc[row_indexer,col_indexer] = value instead\n",
      "\n",
      "See the caveats in the documentation: https://pandas.pydata.org/pandas-docs/stable/user_guide/indexing.html#returning-a-view-versus-a-copy\n",
      "  df_test['predictions']=final_outputs.argmax(axis=1).cpu().numpy()\n",
      "C:\\Users\\Potbottom\\AppData\\Local\\Temp\\ipykernel_23084\\2986263682.py:29: SettingWithCopyWarning: \n",
      "A value is trying to be set on a copy of a slice from a DataFrame.\n",
      "Try using .loc[row_indexer,col_indexer] = value instead\n",
      "\n",
      "See the caveats in the documentation: https://pandas.pydata.org/pandas-docs/stable/user_guide/indexing.html#returning-a-view-versus-a-copy\n",
      "  df_test['predictions']=df_test['predictions'].apply(lambda l:category_map[l])\n"
     ]
    },
    {
     "data": {
      "image/png": "[encoded data removed]",
      "text/plain": [
       "<Figure size 640x480 with 2 Axes>"
      ]
     },
     "metadata": {},
     "output_type": "display_data"
    }
   ],
   "source": [
    "make_predictions(tokenizer,model,df_test)\n",
    "get_performance_metrics('roberta', df_test)"
   ]
  },
  {
   "cell_type": "markdown",
   "metadata": {},
   "source": [
    "# Distilbert"
   ]
  },
  {
   "cell_type": "code",
   "execution_count": 28,
   "metadata": {},
   "outputs": [
    {
     "name": "stdout",
     "output_type": "stream",
     "text": [
      "Training and evaluating distilbert...\n"
     ]
    },
    {
     "name": "stderr",
     "output_type": "stream",
     "text": [
      "Some weights of DistilBertForSequenceClassification were not initialized from the model checkpoint at distilbert-base-uncased and are newly initialized: ['classifier.bias', 'classifier.weight', 'pre_classifier.bias', 'pre_classifier.weight']\n",
      "You should probably TRAIN this model on a down-stream task to be able to use it for predictions and inference.\n",
      "Map: 100%|██████████| 9144/9144 [00:02<00:00, 4267.82 examples/s]\n",
      "Map: 100%|██████████| 3048/3048 [00:00<00:00, 4349.98 examples/s]\n",
      "Map: 100%|██████████| 3049/3049 [00:00<00:00, 4435.35 examples/s]\n",
      "C:\\Users\\Potbottom\\AppData\\Local\\Temp\\ipykernel_23084\\4162890314.py:6: UserWarning: To copy construct from a tensor, it is recommended to use sourceTensor.clone().detach() or sourceTensor.clone().detach().requires_grad_(True), rather than torch.tensor(sourceTensor).\n",
      "  self.class_weights = torch.tensor(class_weights, dtype=torch.float32).to(self.args.device)\n",
      " 15%|█▍        | 503/3429 [00:19<01:49, 26.64it/s]"
     ]
    },
    {
     "name": "stdout",
     "output_type": "stream",
     "text": [
      "{'loss': 0.1066, 'grad_norm': 4.252030372619629, 'learning_rate': 8.541848935549723e-05, 'epoch': 0.44}\n"
     ]
    },
    {
     "name": "stderr",
     "output_type": "stream",
     "text": [
      " 29%|██▉       | 1004/3429 [00:39<01:33, 25.95it/s]"
     ]
    },
    {
     "name": "stdout",
     "output_type": "stream",
     "text": [
      "{'loss': 0.0871, 'grad_norm': 0.07062822580337524, 'learning_rate': 7.083697871099446e-05, 'epoch': 0.87}\n"
     ]
    },
    {
     "name": "stderr",
     "output_type": "stream",
     "text": [
      " 33%|███▎      | 1143/3429 [00:44<01:28, 25.92it/s]\n",
      " 33%|███▎      | 1143/3429 [00:47<01:28, 25.92it/s]"
     ]
    },
    {
     "name": "stdout",
     "output_type": "stream",
     "text": [
      "{'eval_loss': 0.05222262442111969, 'eval_balanced_accuracy': 0.9905306743465739, 'eval_accuracy': 0.9908136482939632, 'eval_runtime': 2.9615, 'eval_samples_per_second': 1029.196, 'eval_steps_per_second': 128.65, 'epoch': 1.0}\n"
     ]
    },
    {
     "name": "stderr",
     "output_type": "stream",
     "text": [
      " 44%|████▍     | 1503/3429 [01:02<01:15, 25.49it/s]"
     ]
    },
    {
     "name": "stdout",
     "output_type": "stream",
     "text": [
      "{'loss': 0.044, 'grad_norm': 0.01993557997047901, 'learning_rate': 5.625546806649169e-05, 'epoch': 1.31}\n"
     ]
    },
    {
     "name": "stderr",
     "output_type": "stream",
     "text": [
      " 58%|█████▊    | 2005/3429 [01:22<00:55, 25.66it/s]"
     ]
    },
    {
     "name": "stdout",
     "output_type": "stream",
     "text": [
      "{'loss': 0.0378, 'grad_norm': 0.05124122276902199, 'learning_rate': 4.167395742198892e-05, 'epoch': 1.75}\n"
     ]
    },
    {
     "name": "stderr",
     "output_type": "stream",
     "text": [
      " 67%|██████▋   | 2284/3429 [01:33<00:54, 21.19it/s]\n",
      " 67%|██████▋   | 2286/3429 [01:37<00:53, 21.19it/s]"
     ]
    },
    {
     "name": "stdout",
     "output_type": "stream",
     "text": [
      "{'eval_loss': 0.057171739637851715, 'eval_balanced_accuracy': 0.9898220413194221, 'eval_accuracy': 0.9898293963254593, 'eval_runtime': 3.3877, 'eval_samples_per_second': 899.731, 'eval_steps_per_second': 112.466, 'epoch': 2.0}\n"
     ]
    },
    {
     "name": "stderr",
     "output_type": "stream",
     "text": [
      " 73%|███████▎  | 2503/3429 [01:46<00:38, 24.04it/s]"
     ]
    },
    {
     "name": "stdout",
     "output_type": "stream",
     "text": [
      "{'loss': 0.0385, 'grad_norm': 0.02132326550781727, 'learning_rate': 2.7092446777486146e-05, 'epoch': 2.19}\n"
     ]
    },
    {
     "name": "stderr",
     "output_type": "stream",
     "text": [
      " 88%|████████▊ | 3004/3429 [02:07<00:17, 23.74it/s]"
     ]
    },
    {
     "name": "stdout",
     "output_type": "stream",
     "text": [
      "{'loss': 0.0311, 'grad_norm': 0.008650332689285278, 'learning_rate': 1.2510936132983377e-05, 'epoch': 2.62}\n"
     ]
    },
    {
     "name": "stderr",
     "output_type": "stream",
     "text": [
      "100%|█████████▉| 3427/3429 [02:24<00:00, 23.85it/s]\n",
      "100%|██████████| 3429/3429 [02:27<00:00, 23.85it/s]"
     ]
    },
    {
     "name": "stdout",
     "output_type": "stream",
     "text": [
      "{'eval_loss': 0.03155158460140228, 'eval_balanced_accuracy': 0.9919510767606774, 'eval_accuracy': 0.9917979002624672, 'eval_runtime': 2.8553, 'eval_samples_per_second': 1067.498, 'eval_steps_per_second': 133.437, 'epoch': 3.0}\n"
     ]
    },
    {
     "name": "stderr",
     "output_type": "stream",
     "text": [
      "100%|██████████| 3429/3429 [02:28<00:00, 23.13it/s]"
     ]
    },
    {
     "name": "stdout",
     "output_type": "stream",
     "text": [
      "{'train_runtime': 148.2549, 'train_samples_per_second': 185.033, 'train_steps_per_second': 23.129, 'train_loss': 0.0529890460917956, 'epoch': 3.0}\n",
      "***** train metrics *****\n",
      "  epoch                    =        3.0\n",
      "  total_flos               =   393756GF\n",
      "  train_loss               =      0.053\n",
      "  train_runtime            = 0:02:28.25\n",
      "  train_samples            =       9144\n",
      "  train_samples_per_second =    185.033\n",
      "  train_steps_per_second   =     23.129\n"
     ]
    },
    {
     "name": "stderr",
     "output_type": "stream",
     "text": [
      "\n"
     ]
    }
   ],
   "source": [
    "tokenizer, model = tokenizer_model('distilbert')\n",
    "train_model(tokenizer, model)\n"
   ]
  },
  {
   "cell_type": "code",
   "execution_count": 29,
   "metadata": {},
   "outputs": [
    {
     "name": "stdout",
     "output_type": "stream",
     "text": [
      "Accuracy: 0.9905\n",
      "Precision: 0.9921\n",
      "Recall: 0.9871\n",
      "F1-Score: 0.9896\n",
      "Confusion Matrix:\n",
      "[[1642   11]\n",
      " [  18 1378]]\n",
      "\n",
      "Classification Report:\n",
      "              precision    recall  f1-score   support\n",
      "\n",
      "           0       0.99      0.99      0.99      1653\n",
      "           1       0.99      0.99      0.99      1396\n",
      "\n",
      "    accuracy                           0.99      3049\n",
      "   macro avg       0.99      0.99      0.99      3049\n",
      "weighted avg       0.99      0.99      0.99      3049\n",
      "\n",
      "Balanced Accuracy Score: 0.9902257248694308\n",
      "Accuracy Score: 0.9904886848146933\n"
     ]
    },
    {
     "name": "stderr",
     "output_type": "stream",
     "text": [
      "C:\\Users\\Potbottom\\AppData\\Local\\Temp\\ipykernel_23084\\2986263682.py:28: SettingWithCopyWarning: \n",
      "A value is trying to be set on a copy of a slice from a DataFrame.\n",
      "Try using .loc[row_indexer,col_indexer] = value instead\n",
      "\n",
      "See the caveats in the documentation: https://pandas.pydata.org/pandas-docs/stable/user_guide/indexing.html#returning-a-view-versus-a-copy\n",
      "  df_test['predictions']=final_outputs.argmax(axis=1).cpu().numpy()\n",
      "C:\\Users\\Potbottom\\AppData\\Local\\Temp\\ipykernel_23084\\2986263682.py:29: SettingWithCopyWarning: \n",
      "A value is trying to be set on a copy of a slice from a DataFrame.\n",
      "Try using .loc[row_indexer,col_indexer] = value instead\n",
      "\n",
      "See the caveats in the documentation: https://pandas.pydata.org/pandas-docs/stable/user_guide/indexing.html#returning-a-view-versus-a-copy\n",
      "  df_test['predictions']=df_test['predictions'].apply(lambda l:category_map[l])\n"
     ]
    },
    {
     "data": {
      "image/png": "[encoded data removed]",
      "text/plain": [
       "<Figure size 640x480 with 2 Axes>"
      ]
     },
     "metadata": {},
     "output_type": "display_data"
    }
   ],
   "source": [
    "make_predictions(tokenizer,model,df_test)\n",
    "get_performance_metrics('distilber', df_test)"
   ]
  },
  {
   "cell_type": "markdown",
   "metadata": {},
   "source": [
    "# Plot evaluation comparison"
   ]
  },
  {
   "cell_type": "code",
   "execution_count": 30,
   "metadata": {},
   "outputs": [
    {
     "data": {
      "image/png": "[encoded data removed]",
      "text/plain": [
       "<Figure size 1000x400 with 1 Axes>"
      ]
     },
     "metadata": {},
     "output_type": "display_data"
    },
    {
     "data": {
      "image/png": "[encoded data removed]",
      "text/plain": [
       "<Figure size 1000x400 with 1 Axes>"
      ]
     },
     "metadata": {},
     "output_type": "display_data"
    },
    {
     "data": {
      "image/png": "[encoded data removed]",
      "text/plain": [
       "<Figure size 1000x400 with 1 Axes>"
      ]
     },
     "metadata": {},
     "output_type": "display_data"
    },
    {
     "data": {
      "image/png": "[encoded data removed]",
      "text/plain": [
       "<Figure size 1000x400 with 1 Axes>"
      ]
     },
     "metadata": {},
     "output_type": "display_data"
    }
   ],
   "source": [
    "# Plot the evaluation metrics\n",
    "metrics = ['accuracy', 'precision', 'recall', 'f1_score']\n",
    "for metric in metrics:\n",
    "    plt.figure(figsize=(10, 4))\n",
    "    bars = plt.bar(evaluation_results.keys(), [evaluation_results[model][metric] for model in evaluation_results], color=['blue', 'green', 'red', 'purple', 'yellow'])\n",
    "    \n",
    "  # Add data labels above each bar for clarity\n",
    "    for bar in bars:\n",
    "        yval = bar.get_height()\n",
    "        plt.text(bar.get_x() + bar.get_width()/2, yval + 0.001, round(yval, 3), ha='center', va='bottom')\n",
    "\n",
    "    plt.xlabel('Model', fontsize=14)\n",
    "    plt.ylabel(metric.capitalize(), fontsize=14)\n",
    "    plt.title(f'Comparison of Model {metric.capitalize()} on Scam Detection', fontsize=16)\n",
    "    plt.ylim(0.9, 1)  # Set y-axis limit to make differences more distinct\n",
    "    plt.xticks(fontsize=12)\n",
    "    plt.yticks(fontsize=12)\n",
    "    plt.tight_layout()\n",
    "    plt.show()"
   ]
  }
 ],
 "metadata": {
  "kernelspec": {
   "display_name": "Python 3",
   "language": "python",
   "name": "python3"
  },
  "language_info": {
   "codemirror_mode": {
    "name": "ipython",
    "version": 3
   },
   "file_extension": ".py",
   "mimetype": "text/x-python",
   "name": "python",
   "nbconvert_exporter": "python",
   "pygments_lexer": "ipython3",
   "version": "3.12.3"
  }
 },
 "nbformat": 4,
 "nbformat_minor": 2
}
